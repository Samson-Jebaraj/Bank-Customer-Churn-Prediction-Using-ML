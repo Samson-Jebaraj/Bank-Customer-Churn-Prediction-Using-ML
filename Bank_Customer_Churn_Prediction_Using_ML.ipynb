{
  "nbformat": 4,
  "nbformat_minor": 0,
  "metadata": {
    "colab": {
      "provenance": []
    },
    "kernelspec": {
      "name": "python3",
      "display_name": "Python 3"
    },
    "language_info": {
      "name": "python"
    }
  },
  "cells": [
    {
      "cell_type": "markdown",
      "source": [
        "\n",
        "# **Title of project: Bank Customer Churn Prediction Using ML**"
      ],
      "metadata": {
        "id": "HBECF06VKW5t"
      }
    },
    {
      "cell_type": "markdown",
      "source": [
        "# **Objective**\n",
        "\n",
        "The objective of the project is to develop a ml model that can accurately predict which customers are likely to leave the bank's services."
      ],
      "metadata": {
        "id": "qGFMHvjhKlAr"
      }
    },
    {
      "cell_type": "markdown",
      "source": [
        "# **Data Source**\n",
        "\n",
        "Bank Customer Churn\n",
        "(https://github.com/YBI-Foundation/Dataset/raw/main/Bank%20Churn%20Modelling.csv)\n",
        "\n",
        "13 columns, 10,000 rows\n",
        "\n",
        "These are the attributes present in the dataset:\n",
        "\n",
        "\n",
        "***CustomerId***: Contains random values and has no effect on customer leaving the bank.\n",
        "\n",
        "***Surname***: The surname of a customer has no impact on their decision to leave the bank.\n",
        "\n",
        "***CreditScore***: Can have an effect on customer churn, since a customer with a higher credit score is less likely to leave the bank.\n",
        "\n",
        "***Geography***: A customer’s location can affect their decision to leave the bank.\n",
        "\n",
        "***Gender***: It’s interesting to explore whether gender plays a role in a customer leaving the bank.\n",
        "\n",
        "***Age***: This is certainly relevant, since older customers are less likely to leave their bank than younger ones.\n",
        "\n",
        "***Tenure***: Refers to the number of years that the customer has been a client of the bank. Normally, older clients are more loyal and less likely to leave a bank.\n",
        "\n",
        "***Balance***: Also a very good indicator of customer churn, as people with a higher balance in their accounts are less likely to leave the bank compared to those with lower balances.\n",
        "\n",
        "***Num Of Products***: Refers to the number of products that a customer has purchased through the bank.\n",
        "\n",
        "***Has Credit Card***: Denotes whether or not a customer has a credit card. This column is also relevant, since people with a credit card are less likely to leave the bank.\n",
        "\n",
        "***Is Active Member***: Active customers are less likely to leave the bank.\n",
        "\n",
        "***Estimated Salary***: As with balance, people with lower salaries are more likely to leave the bank compared to those with higher salaries.\n",
        "\n",
        "***Churn***: The customer left the bank or not.\n"
      ],
      "metadata": {
        "id": "umnaudgIKx5p"
      }
    },
    {
      "cell_type": "markdown",
      "source": [
        "# **Import  Library**"
      ],
      "metadata": {
        "id": "gSFCEITYLZav"
      }
    },
    {
      "cell_type": "code",
      "execution_count": null,
      "metadata": {
        "id": "AF1DpDe7KR_Z"
      },
      "outputs": [],
      "source": [
        "import pandas as pd\n",
        "import matplotlib.pyplot as plt\n",
        "import seaborn as sns"
      ]
    },
    {
      "cell_type": "markdown",
      "source": [
        "# **Import Data**"
      ],
      "metadata": {
        "id": "e8qzw3xRLhbS"
      }
    },
    {
      "cell_type": "code",
      "source": [
        "df = pd.read_csv('https://github.com/YBI-Foundation/Dataset/raw/main/Bank%20Churn%20Modelling.csv')\n",
        "df.head()"
      ],
      "metadata": {
        "colab": {
          "base_uri": "https://localhost:8080/",
          "height": 260
        },
        "id": "8uShKFYGKc4L",
        "outputId": "4db744f0-2844-4e48-f055-da6a3f8b19b1"
      },
      "execution_count": null,
      "outputs": [
        {
          "output_type": "execute_result",
          "data": {
            "text/plain": [
              "   CustomerId   Surname  CreditScore Geography  Gender  Age  Tenure  \\\n",
              "0    15634602  Hargrave          619    France  Female   42       2   \n",
              "1    15647311      Hill          608     Spain  Female   41       1   \n",
              "2    15619304      Onio          502    France  Female   42       8   \n",
              "3    15701354      Boni          699    France  Female   39       1   \n",
              "4    15737888  Mitchell          850     Spain  Female   43       2   \n",
              "\n",
              "     Balance  Num Of Products  Has Credit Card  Is Active Member  \\\n",
              "0       0.00                1                1                 1   \n",
              "1   83807.86                1                0                 1   \n",
              "2  159660.80                3                1                 0   \n",
              "3       0.00                2                0                 0   \n",
              "4  125510.82                1                1                 1   \n",
              "\n",
              "   Estimated Salary  Churn  \n",
              "0         101348.88      1  \n",
              "1         112542.58      0  \n",
              "2         113931.57      1  \n",
              "3          93826.63      0  \n",
              "4          79084.10      0  "
            ],
            "text/html": [
              "\n",
              "  <div id=\"df-1182af87-fdc8-410f-b2ad-45640415f508\" class=\"colab-df-container\">\n",
              "    <div>\n",
              "<style scoped>\n",
              "    .dataframe tbody tr th:only-of-type {\n",
              "        vertical-align: middle;\n",
              "    }\n",
              "\n",
              "    .dataframe tbody tr th {\n",
              "        vertical-align: top;\n",
              "    }\n",
              "\n",
              "    .dataframe thead th {\n",
              "        text-align: right;\n",
              "    }\n",
              "</style>\n",
              "<table border=\"1\" class=\"dataframe\">\n",
              "  <thead>\n",
              "    <tr style=\"text-align: right;\">\n",
              "      <th></th>\n",
              "      <th>CustomerId</th>\n",
              "      <th>Surname</th>\n",
              "      <th>CreditScore</th>\n",
              "      <th>Geography</th>\n",
              "      <th>Gender</th>\n",
              "      <th>Age</th>\n",
              "      <th>Tenure</th>\n",
              "      <th>Balance</th>\n",
              "      <th>Num Of Products</th>\n",
              "      <th>Has Credit Card</th>\n",
              "      <th>Is Active Member</th>\n",
              "      <th>Estimated Salary</th>\n",
              "      <th>Churn</th>\n",
              "    </tr>\n",
              "  </thead>\n",
              "  <tbody>\n",
              "    <tr>\n",
              "      <th>0</th>\n",
              "      <td>15634602</td>\n",
              "      <td>Hargrave</td>\n",
              "      <td>619</td>\n",
              "      <td>France</td>\n",
              "      <td>Female</td>\n",
              "      <td>42</td>\n",
              "      <td>2</td>\n",
              "      <td>0.00</td>\n",
              "      <td>1</td>\n",
              "      <td>1</td>\n",
              "      <td>1</td>\n",
              "      <td>101348.88</td>\n",
              "      <td>1</td>\n",
              "    </tr>\n",
              "    <tr>\n",
              "      <th>1</th>\n",
              "      <td>15647311</td>\n",
              "      <td>Hill</td>\n",
              "      <td>608</td>\n",
              "      <td>Spain</td>\n",
              "      <td>Female</td>\n",
              "      <td>41</td>\n",
              "      <td>1</td>\n",
              "      <td>83807.86</td>\n",
              "      <td>1</td>\n",
              "      <td>0</td>\n",
              "      <td>1</td>\n",
              "      <td>112542.58</td>\n",
              "      <td>0</td>\n",
              "    </tr>\n",
              "    <tr>\n",
              "      <th>2</th>\n",
              "      <td>15619304</td>\n",
              "      <td>Onio</td>\n",
              "      <td>502</td>\n",
              "      <td>France</td>\n",
              "      <td>Female</td>\n",
              "      <td>42</td>\n",
              "      <td>8</td>\n",
              "      <td>159660.80</td>\n",
              "      <td>3</td>\n",
              "      <td>1</td>\n",
              "      <td>0</td>\n",
              "      <td>113931.57</td>\n",
              "      <td>1</td>\n",
              "    </tr>\n",
              "    <tr>\n",
              "      <th>3</th>\n",
              "      <td>15701354</td>\n",
              "      <td>Boni</td>\n",
              "      <td>699</td>\n",
              "      <td>France</td>\n",
              "      <td>Female</td>\n",
              "      <td>39</td>\n",
              "      <td>1</td>\n",
              "      <td>0.00</td>\n",
              "      <td>2</td>\n",
              "      <td>0</td>\n",
              "      <td>0</td>\n",
              "      <td>93826.63</td>\n",
              "      <td>0</td>\n",
              "    </tr>\n",
              "    <tr>\n",
              "      <th>4</th>\n",
              "      <td>15737888</td>\n",
              "      <td>Mitchell</td>\n",
              "      <td>850</td>\n",
              "      <td>Spain</td>\n",
              "      <td>Female</td>\n",
              "      <td>43</td>\n",
              "      <td>2</td>\n",
              "      <td>125510.82</td>\n",
              "      <td>1</td>\n",
              "      <td>1</td>\n",
              "      <td>1</td>\n",
              "      <td>79084.10</td>\n",
              "      <td>0</td>\n",
              "    </tr>\n",
              "  </tbody>\n",
              "</table>\n",
              "</div>\n",
              "    <div class=\"colab-df-buttons\">\n",
              "\n",
              "  <div class=\"colab-df-container\">\n",
              "    <button class=\"colab-df-convert\" onclick=\"convertToInteractive('df-1182af87-fdc8-410f-b2ad-45640415f508')\"\n",
              "            title=\"Convert this dataframe to an interactive table.\"\n",
              "            style=\"display:none;\">\n",
              "\n",
              "  <svg xmlns=\"http://www.w3.org/2000/svg\" height=\"24px\" viewBox=\"0 -960 960 960\">\n",
              "    <path d=\"M120-120v-720h720v720H120Zm60-500h600v-160H180v160Zm220 220h160v-160H400v160Zm0 220h160v-160H400v160ZM180-400h160v-160H180v160Zm440 0h160v-160H620v160ZM180-180h160v-160H180v160Zm440 0h160v-160H620v160Z\"/>\n",
              "  </svg>\n",
              "    </button>\n",
              "\n",
              "  <style>\n",
              "    .colab-df-container {\n",
              "      display:flex;\n",
              "      gap: 12px;\n",
              "    }\n",
              "\n",
              "    .colab-df-convert {\n",
              "      background-color: #E8F0FE;\n",
              "      border: none;\n",
              "      border-radius: 50%;\n",
              "      cursor: pointer;\n",
              "      display: none;\n",
              "      fill: #1967D2;\n",
              "      height: 32px;\n",
              "      padding: 0 0 0 0;\n",
              "      width: 32px;\n",
              "    }\n",
              "\n",
              "    .colab-df-convert:hover {\n",
              "      background-color: #E2EBFA;\n",
              "      box-shadow: 0px 1px 2px rgba(60, 64, 67, 0.3), 0px 1px 3px 1px rgba(60, 64, 67, 0.15);\n",
              "      fill: #174EA6;\n",
              "    }\n",
              "\n",
              "    .colab-df-buttons div {\n",
              "      margin-bottom: 4px;\n",
              "    }\n",
              "\n",
              "    [theme=dark] .colab-df-convert {\n",
              "      background-color: #3B4455;\n",
              "      fill: #D2E3FC;\n",
              "    }\n",
              "\n",
              "    [theme=dark] .colab-df-convert:hover {\n",
              "      background-color: #434B5C;\n",
              "      box-shadow: 0px 1px 3px 1px rgba(0, 0, 0, 0.15);\n",
              "      filter: drop-shadow(0px 1px 2px rgba(0, 0, 0, 0.3));\n",
              "      fill: #FFFFFF;\n",
              "    }\n",
              "  </style>\n",
              "\n",
              "    <script>\n",
              "      const buttonEl =\n",
              "        document.querySelector('#df-1182af87-fdc8-410f-b2ad-45640415f508 button.colab-df-convert');\n",
              "      buttonEl.style.display =\n",
              "        google.colab.kernel.accessAllowed ? 'block' : 'none';\n",
              "\n",
              "      async function convertToInteractive(key) {\n",
              "        const element = document.querySelector('#df-1182af87-fdc8-410f-b2ad-45640415f508');\n",
              "        const dataTable =\n",
              "          await google.colab.kernel.invokeFunction('convertToInteractive',\n",
              "                                                    [key], {});\n",
              "        if (!dataTable) return;\n",
              "\n",
              "        const docLinkHtml = 'Like what you see? Visit the ' +\n",
              "          '<a target=\"_blank\" href=https://colab.research.google.com/notebooks/data_table.ipynb>data table notebook</a>'\n",
              "          + ' to learn more about interactive tables.';\n",
              "        element.innerHTML = '';\n",
              "        dataTable['output_type'] = 'display_data';\n",
              "        await google.colab.output.renderOutput(dataTable, element);\n",
              "        const docLink = document.createElement('div');\n",
              "        docLink.innerHTML = docLinkHtml;\n",
              "        element.appendChild(docLink);\n",
              "      }\n",
              "    </script>\n",
              "  </div>\n",
              "\n",
              "\n",
              "<div id=\"df-59bb4007-0118-4908-ab5a-7e3d696a2cfb\">\n",
              "  <button class=\"colab-df-quickchart\" onclick=\"quickchart('df-59bb4007-0118-4908-ab5a-7e3d696a2cfb')\"\n",
              "            title=\"Suggest charts.\"\n",
              "            style=\"display:none;\">\n",
              "\n",
              "<svg xmlns=\"http://www.w3.org/2000/svg\" height=\"24px\"viewBox=\"0 0 24 24\"\n",
              "     width=\"24px\">\n",
              "    <g>\n",
              "        <path d=\"M19 3H5c-1.1 0-2 .9-2 2v14c0 1.1.9 2 2 2h14c1.1 0 2-.9 2-2V5c0-1.1-.9-2-2-2zM9 17H7v-7h2v7zm4 0h-2V7h2v10zm4 0h-2v-4h2v4z\"/>\n",
              "    </g>\n",
              "</svg>\n",
              "  </button>\n",
              "\n",
              "<style>\n",
              "  .colab-df-quickchart {\n",
              "    background-color: #E8F0FE;\n",
              "    border: none;\n",
              "    border-radius: 50%;\n",
              "    cursor: pointer;\n",
              "    display: none;\n",
              "    fill: #1967D2;\n",
              "    height: 32px;\n",
              "    padding: 0 0 0 0;\n",
              "    width: 32px;\n",
              "  }\n",
              "\n",
              "  .colab-df-quickchart:hover {\n",
              "    background-color: #E2EBFA;\n",
              "    box-shadow: 0px 1px 2px rgba(60, 64, 67, 0.3), 0px 1px 3px 1px rgba(60, 64, 67, 0.15);\n",
              "    fill: #174EA6;\n",
              "  }\n",
              "\n",
              "  [theme=dark] .colab-df-quickchart {\n",
              "    background-color: #3B4455;\n",
              "    fill: #D2E3FC;\n",
              "  }\n",
              "\n",
              "  [theme=dark] .colab-df-quickchart:hover {\n",
              "    background-color: #434B5C;\n",
              "    box-shadow: 0px 1px 3px 1px rgba(0, 0, 0, 0.15);\n",
              "    filter: drop-shadow(0px 1px 2px rgba(0, 0, 0, 0.3));\n",
              "    fill: #FFFFFF;\n",
              "  }\n",
              "</style>\n",
              "\n",
              "  <script>\n",
              "    async function quickchart(key) {\n",
              "      const charts = await google.colab.kernel.invokeFunction(\n",
              "          'suggestCharts', [key], {});\n",
              "    }\n",
              "    (() => {\n",
              "      let quickchartButtonEl =\n",
              "        document.querySelector('#df-59bb4007-0118-4908-ab5a-7e3d696a2cfb button');\n",
              "      quickchartButtonEl.style.display =\n",
              "        google.colab.kernel.accessAllowed ? 'block' : 'none';\n",
              "    })();\n",
              "  </script>\n",
              "</div>\n",
              "    </div>\n",
              "  </div>\n"
            ]
          },
          "metadata": {},
          "execution_count": 2
        }
      ]
    },
    {
      "cell_type": "markdown",
      "source": [
        "# **Data Analysis**"
      ],
      "metadata": {
        "id": "GzCXHi-hLoXp"
      }
    },
    {
      "cell_type": "code",
      "source": [
        "df.shape"
      ],
      "metadata": {
        "colab": {
          "base_uri": "https://localhost:8080/"
        },
        "id": "No2PdmY1Lv-5",
        "outputId": "e86601e5-8386-47d3-b236-afceec3f2f7a"
      },
      "execution_count": null,
      "outputs": [
        {
          "output_type": "execute_result",
          "data": {
            "text/plain": [
              "(10000, 13)"
            ]
          },
          "metadata": {},
          "execution_count": 3
        }
      ]
    },
    {
      "cell_type": "code",
      "source": [
        "df.columns"
      ],
      "metadata": {
        "colab": {
          "base_uri": "https://localhost:8080/"
        },
        "id": "7d7PcMGVLvA_",
        "outputId": "7fe46a40-eebc-4f15-dbae-f92211275a6d"
      },
      "execution_count": null,
      "outputs": [
        {
          "output_type": "execute_result",
          "data": {
            "text/plain": [
              "Index(['CustomerId', 'Surname', 'CreditScore', 'Geography', 'Gender', 'Age',\n",
              "       'Tenure', 'Balance', 'Num Of Products', 'Has Credit Card',\n",
              "       'Is Active Member', 'Estimated Salary', 'Churn'],\n",
              "      dtype='object')"
            ]
          },
          "metadata": {},
          "execution_count": 4
        }
      ]
    },
    {
      "cell_type": "code",
      "source": [
        "df.info()"
      ],
      "metadata": {
        "colab": {
          "base_uri": "https://localhost:8080/"
        },
        "id": "DPnYJNutLkcz",
        "outputId": "8956fc84-461d-49b1-ef46-84c83168ddc1"
      },
      "execution_count": null,
      "outputs": [
        {
          "output_type": "stream",
          "name": "stdout",
          "text": [
            "<class 'pandas.core.frame.DataFrame'>\n",
            "RangeIndex: 10000 entries, 0 to 9999\n",
            "Data columns (total 13 columns):\n",
            " #   Column            Non-Null Count  Dtype  \n",
            "---  ------            --------------  -----  \n",
            " 0   CustomerId        10000 non-null  int64  \n",
            " 1   Surname           10000 non-null  object \n",
            " 2   CreditScore       10000 non-null  int64  \n",
            " 3   Geography         10000 non-null  object \n",
            " 4   Gender            10000 non-null  object \n",
            " 5   Age               10000 non-null  int64  \n",
            " 6   Tenure            10000 non-null  int64  \n",
            " 7   Balance           10000 non-null  float64\n",
            " 8   Num Of Products   10000 non-null  int64  \n",
            " 9   Has Credit Card   10000 non-null  int64  \n",
            " 10  Is Active Member  10000 non-null  int64  \n",
            " 11  Estimated Salary  10000 non-null  float64\n",
            " 12  Churn             10000 non-null  int64  \n",
            "dtypes: float64(2), int64(8), object(3)\n",
            "memory usage: 1015.8+ KB\n"
          ]
        }
      ]
    },
    {
      "cell_type": "code",
      "source": [
        "df.isnull().sum()"
      ],
      "metadata": {
        "colab": {
          "base_uri": "https://localhost:8080/"
        },
        "id": "qq93moQrL3V-",
        "outputId": "668895d0-85e8-40cd-bd44-bf9bd93799df"
      },
      "execution_count": null,
      "outputs": [
        {
          "output_type": "execute_result",
          "data": {
            "text/plain": [
              "CustomerId          0\n",
              "Surname             0\n",
              "CreditScore         0\n",
              "Geography           0\n",
              "Gender              0\n",
              "Age                 0\n",
              "Tenure              0\n",
              "Balance             0\n",
              "Num Of Products     0\n",
              "Has Credit Card     0\n",
              "Is Active Member    0\n",
              "Estimated Salary    0\n",
              "Churn               0\n",
              "dtype: int64"
            ]
          },
          "metadata": {},
          "execution_count": 6
        }
      ]
    },
    {
      "cell_type": "code",
      "source": [
        "df.duplicated().sum()"
      ],
      "metadata": {
        "colab": {
          "base_uri": "https://localhost:8080/"
        },
        "id": "qBLykZRFLw76",
        "outputId": "cf85ef60-27ca-4746-a4a4-bb76390f999d"
      },
      "execution_count": null,
      "outputs": [
        {
          "output_type": "execute_result",
          "data": {
            "text/plain": [
              "0"
            ]
          },
          "metadata": {},
          "execution_count": 7
        }
      ]
    },
    {
      "cell_type": "markdown",
      "source": [
        "# **Label Encoding**"
      ],
      "metadata": {
        "id": "x7Qren3pMDwB"
      }
    },
    {
      "cell_type": "code",
      "source": [
        "df['Geography'].value_counts()"
      ],
      "metadata": {
        "colab": {
          "base_uri": "https://localhost:8080/"
        },
        "id": "jMNsk85oL24Q",
        "outputId": "95a00a17-55a9-41f0-f631-338d637600ef"
      },
      "execution_count": null,
      "outputs": [
        {
          "output_type": "execute_result",
          "data": {
            "text/plain": [
              "France     5014\n",
              "Germany    2509\n",
              "Spain      2477\n",
              "Name: Geography, dtype: int64"
            ]
          },
          "metadata": {},
          "execution_count": 8
        }
      ]
    },
    {
      "cell_type": "code",
      "source": [
        "df.replace({'Geography' : {'France' : 0, 'Germany' : 1, 'Spain' : 2}}, inplace=True)"
      ],
      "metadata": {
        "id": "Vx81viR_MHgT"
      },
      "execution_count": null,
      "outputs": []
    },
    {
      "cell_type": "code",
      "source": [
        "df['Gender'].value_counts()"
      ],
      "metadata": {
        "colab": {
          "base_uri": "https://localhost:8080/"
        },
        "id": "boqgwjyMMJkS",
        "outputId": "63df0e83-2d56-4aa7-99d6-c3f7739cd9c6"
      },
      "execution_count": null,
      "outputs": [
        {
          "output_type": "execute_result",
          "data": {
            "text/plain": [
              "Male      5457\n",
              "Female    4543\n",
              "Name: Gender, dtype: int64"
            ]
          },
          "metadata": {},
          "execution_count": 10
        }
      ]
    },
    {
      "cell_type": "code",
      "source": [
        "df.replace({'Gender' : {'Male' : 0, 'Female' : 1}}, inplace=True)"
      ],
      "metadata": {
        "id": "pe3bX0AqML4x"
      },
      "execution_count": null,
      "outputs": []
    },
    {
      "cell_type": "markdown",
      "source": [
        "# **Spliting the data into independent variables and dependent varaiable**"
      ],
      "metadata": {
        "id": "f8QiWkKsMbSU"
      }
    },
    {
      "cell_type": "code",
      "source": [
        "df.columns"
      ],
      "metadata": {
        "colab": {
          "base_uri": "https://localhost:8080/"
        },
        "id": "_t6uAzVSPJ6T",
        "outputId": "ac8fe0f3-4c0b-44e1-c4b2-c5f067c3d11a"
      },
      "execution_count": null,
      "outputs": [
        {
          "output_type": "execute_result",
          "data": {
            "text/plain": [
              "Index(['CustomerId', 'Surname', 'CreditScore', 'Geography', 'Gender', 'Age',\n",
              "       'Tenure', 'Balance', 'Num Of Products', 'Has Credit Card',\n",
              "       'Is Active Member', 'Estimated Salary', 'Churn'],\n",
              "      dtype='object')"
            ]
          },
          "metadata": {},
          "execution_count": 12
        }
      ]
    },
    {
      "cell_type": "code",
      "source": [
        "X = df.drop(['CustomerId', 'Surname', 'Churn'], axis=1)\n",
        "Y = df['Churn']"
      ],
      "metadata": {
        "id": "FhXwdQGzMN-q"
      },
      "execution_count": null,
      "outputs": []
    },
    {
      "cell_type": "code",
      "source": [
        "X.shape, Y.shape"
      ],
      "metadata": {
        "colab": {
          "base_uri": "https://localhost:8080/"
        },
        "id": "RDKOZinNMYJ4",
        "outputId": "077ae2d9-6eec-4b9b-82b0-bbc46d70070f"
      },
      "execution_count": null,
      "outputs": [
        {
          "output_type": "execute_result",
          "data": {
            "text/plain": [
              "((10000, 10), (10000,))"
            ]
          },
          "metadata": {},
          "execution_count": 14
        }
      ]
    },
    {
      "cell_type": "markdown",
      "source": [
        "# **Handling Imbalanced Data**"
      ],
      "metadata": {
        "id": "nQ2eyaYdMpk1"
      }
    },
    {
      "cell_type": "markdown",
      "source": [
        "A classification data set with skewed class proportions is called imbalanced. Classes that make up a large proportion of the data set are called majority classes. Those that make up a smaller proportion are minority classes.\n",
        "\n",
        "***Oversampling***\n",
        "\n",
        "The simplest oversampling method involves randomly duplicating examples from the minority class in the training dataset, referred to as Random Oversampling.\n"
      ],
      "metadata": {
        "id": "ti7IO81SM08w"
      }
    },
    {
      "cell_type": "markdown",
      "source": [
        "![klm.jpg](data:image/jpeg;base64,/9j/4AAQSkZJRgABAQEASABIAAD/4RBmRXhpZgAATU0AKgAAAAgAAodpAAQAAAABAAAIMuocAAcAAAgMAAAAJgAAAAAc6gAAAAgAAAAAAAAAAAAAAAAAAAAAAAAAAAAAAAAAAAAAAAAAAAAAAAAAAAAAAAAAAAAAAAAAAAAAAAAAAAAAAAAAAAAAAAAAAAAAAAAAAAAAAAAAAAAAAAAAAAAAAAAAAAAAAAAAAAAAAAAAAAAAAAAAAAAAAAAAAAAAAAAAAAAAAAAAAAAAAAAAAAAAAAAAAAAAAAAAAAAAAAAAAAAAAAAAAAAAAAAAAAAAAAAAAAAAAAAAAAAAAAAAAAAAAAAAAAAAAAAAAAAAAAAAAAAAAAAAAAAAAAAAAAAAAAAAAAAAAAAAAAAAAAAAAAAAAAAAAAAAAAAAAAAAAAAAAAAAAAAAAAAAAAAAAAAAAAAAAAAAAAAAAAAAAAAAAAAAAAAAAAAAAAAAAAAAAAAAAAAAAAAAAAAAAAAAAAAAAAAAAAAAAAAAAAAAAAAAAAAAAAAAAAAAAAAAAAAAAAAAAAAAAAAAAAAAAAAAAAAAAAAAAAAAAAAAAAAAAAAAAAAAAAAAAAAAAAAAAAAAAAAAAAAAAAAAAAAAAAAAAAAAAAAAAAAAAAAAAAAAAAAAAAAAAAAAAAAAAAAAAAAAAAAAAAAAAAAAAAAAAAAAAAAAAAAAAAAAAAAAAAAAAAAAAAAAAAAAAAAAAAAAAAAAAAAAAAAAAAAAAAAAAAAAAAAAAAAAAAAAAAAAAAAAAAAAAAAAAAAAAAAAAAAAAAAAAAAAAAAAAAAAAAAAAAAAAAAAAAAAAAAAAAAAAAAAAAAAAAAAAAAAAAAAAAAAAAAAAAAAAAAAAAAAAAAAAAAAAAAAAAAAAAAAAAAAAAAAAAAAAAAAAAAAAAAAAAAAAAAAAAAAAAAAAAAAAAAAAAAAAAAAAAAAAAAAAAAAAAAAAAAAAAAAAAAAAAAAAAAAAAAAAAAAAAAAAAAAAAAAAAAAAAAAAAAAAAAAAAAAAAAAAAAAAAAAAAAAAAAAAAAAAAAAAAAAAAAAAAAAAAAAAAAAAAAAAAAAAAAAAAAAAAAAAAAAAAAAAAAAAAAAAAAAAAAAAAAAAAAAAAAAAAAAAAAAAAAAAAAAAAAAAAAAAAAAAAAAAAAAAAAAAAAAAAAAAAAAAAAAAAAAAAAAAAAAAAAAAAAAAAAAAAAAAAAAAAAAAAAAAAAAAAAAAAAAAAAAAAAAAAAAAAAAAAAAAAAAAAAAAAAAAAAAAAAAAAAAAAAAAAAAAAAAAAAAAAAAAAAAAAAAAAAAAAAAAAAAAAAAAAAAAAAAAAAAAAAAAAAAAAAAAAAAAAAAAAAAAAAAAAAAAAAAAAAAAAAAAAAAAAAAAAAAAAAAAAAAAAAAAAAAAAAAAAAAAAAAAAAAAAAAAAAAAAAAAAAAAAAAAAAAAAAAAAAAAAAAAAAAAAAAAAAAAAAAAAAAAAAAAAAAAAAAAAAAAAAAAAAAAAAAAAAAAAAAAAAAAAAAAAAAAAAAAAAAAAAAAAAAAAAAAAAAAAAAAAAAAAAAAAAAAAAAAAAAAAAAAAAAAAAAAAAAAAAAAAAAAAAAAAAAAAAAAAAAAAAAAAAAAAAAAAAAAAAAAAAAAAAAAAAAAAAAAAAAAAAAAAAAAAAAAAAAAAAAAAAAAAAAAAAAAAAAAAAAAAAAAAAAAAAAAAAAAAAAAAAAAAAAAAAAAAAAAAAAAAAAAAAAAAAAAAAAAAAAAAAAAAAAAAAAAAAAAAAAAAAAAAAAAAAAAAAAAAAAAAAAAAAAAAAAAAAAAAAAAAAAAAAAAAAAAAAAAAAAAAAAAAAAAAAAAAAAAAAAAAAAAAAAAAAAAAAAAAAAAAAAAAAAAAAAAAAAAAAAAAAAAAAAAAAAAAAAAAAAAAAAAAAAAAAAAAAAAAAAAAAAAAAAAAAAAAAAAAAAAAAAAAAAAAAAAAAAAAAAAAAAAAAAAAAAAAAAAAAAAAAAAAAAAAAAAAAAAAAAAAAAAAAAAAAAAAAAAAAAAAAAAAAAAAAAAAAAAAAAAAAAAAAAAAAAAAAAAAAAAAAAAAAAAAAAAAAAAAAAAAAAAAAAAAAAAAAAAAAAAAAAAAAAAAAAAAAAAAAAAAAAAAAAAAAAAAAAAAAAAAAAAAAAAAAAAAAAAAAAAAAAAAAAAAAAAAAAAAAAAAAAAAAAAAAAAAAAAAAAAAAAAAAAAAAAAAAAAAAAAAAAAAAAAAAAAAAAAAAAAAAAAAAAAAAAAAAAAAAAAAAAAAAAAAAAAAAAAAAAAAAAAAAAAAAAAAAAAAAAAAAAAAAAAAAAAAAAAAAAAAAAAAAAAAAAAAAAAAAAAAAAAAAAAAAAAAAAAAAAAAAAAAAAAAAAAAAAAAAAAAAAAAAAAAAAAAAAAAAAAAAAAAAAAAAAAAAAAAAAAAAAAAAAAAAAAAAAAAAAAAAAAAAAAAAAAAAAAAAAAAAAAAAAAAAAAAAAAAAAAAAAAAAAAAAAAAAAAAAAAAAAAAAAAAAAAAAAAAAAAAAAAAAAAAAAAAAAAAAAAAAAAAAAAAAAAAAAAAAAAAAAAAAAAAAAAAAAAAAAAAAAAAAAAAAAAAAAAAAAAAAAAAAAAAAAAAAAAAAAAAAAAAAAAAAAAAAAAAAAAAAAAAAAAAAAAAAAAAAAAAAAAAAAAAAAAAAAAAAAAAAAAAAAAAAAAAAAAAAAAAAAAAAAAAAAAAAAAAAAAAAAAAAAAAAAAAAAAAAAAAAAAAAAAAAAAAAAAAAAAAAAAAAAAAAAAAAAAAAAAAAAAAAAAAAAAAAAAAAAAAAAAAAAAAACkAAABwAAAAQwMjEw6hwABwAACAwAAAhQAAAAABzqAAAACAAAAAAAAAAAAAAAAAAAAAAAAAAAAAAAAAAAAAAAAAAAAAAAAAAAAAAAAAAAAAAAAAAAAAAAAAAAAAAAAAAAAAAAAAAAAAAAAAAAAAAAAAAAAAAAAAAAAAAAAAAAAAAAAAAAAAAAAAAAAAAAAAAAAAAAAAAAAAAAAAAAAAAAAAAAAAAAAAAAAAAAAAAAAAAAAAAAAAAAAAAAAAAAAAAAAAAAAAAAAAAAAAAAAAAAAAAAAAAAAAAAAAAAAAAAAAAAAAAAAAAAAAAAAAAAAAAAAAAAAAAAAAAAAAAAAAAAAAAAAAAAAAAAAAAAAAAAAAAAAAAAAAAAAAAAAAAAAAAAAAAAAAAAAAAAAAAAAAAAAAAAAAAAAAAAAAAAAAAAAAAAAAAAAAAAAAAAAAAAAAAAAAAAAAAAAAAAAAAAAAAAAAAAAAAAAAAAAAAAAAAAAAAAAAAAAAAAAAAAAAAAAAAAAAAAAAAAAAAAAAAAAAAAAAAAAAAAAAAAAAAAAAAAAAAAAAAAAAAAAAAAAAAAAAAAAAAAAAAAAAAAAAAAAAAAAAAAAAAAAAAAAAAAAAAAAAAAAAAAAAAAAAAAAAAAAAAAAAAAAAAAAAAAAAAAAAAAAAAAAAAAAAAAAAAAAAAAAAAAAAAAAAAAAAAAAAAAAAAAAAAAAAAAAAAAAAAAAAAAAAAAAAAAAAAAAAAAAAAAAAAAAAAAAAAAAAAAAAAAAAAAAAAAAAAAAAAAAAAAAAAAAAAAAAAAAAAAAAAAAAAAAAAAAAAAAAAAAAAAAAAAAAAAAAAAAAAAAAAAAAAAAAAAAAAAAAAAAAAAAAAAAAAAAAAAAAAAAAAAAAAAAAAAAAAAAAAAAAAAAAAAAAAAAAAAAAAAAAAAAAAAAAAAAAAAAAAAAAAAAAAAAAAAAAAAAAAAAAAAAAAAAAAAAAAAAAAAAAAAAAAAAAAAAAAAAAAAAAAAAAAAAAAAAAAAAAAAAAAAAAAAAAAAAAAAAAAAAAAAAAAAAAAAAAAAAAAAAAAAAAAAAAAAAAAAAAAAAAAAAAAAAAAAAAAAAAAAAAAAAAAAAAAAAAAAAAAAAAAAAAAAAAAAAAAAAAAAAAAAAAAAAAAAAAAAAAAAAAAAAAAAAAAAAAAAAAAAAAAAAAAAAAAAAAAAAAAAAAAAAAAAAAAAAAAAAAAAAAAAAAAAAAAAAAAAAAAAAAAAAAAAAAAAAAAAAAAAAAAAAAAAAAAAAAAAAAAAAAAAAAAAAAAAAAAAAAAAAAAAAAAAAAAAAAAAAAAAAAAAAAAAAAAAAAAAAAAAAAAAAAAAAAAAAAAAAAAAAAAAAAAAAAAAAAAAAAAAAAAAAAAAAAAAAAAAAAAAAAAAAAAAAAAAAAAAAAAAAAAAAAAAAAAAAAAAAAAAAAAAAAAAAAAAAAAAAAAAAAAAAAAAAAAAAAAAAAAAAAAAAAAAAAAAAAAAAAAAAAAAAAAAAAAAAAAAAAAAAAAAAAAAAAAAAAAAAAAAAAAAAAAAAAAAAAAAAAAAAAAAAAAAAAAAAAAAAAAAAAAAAAAAAAAAAAAAAAAAAAAAAAAAAAAAAAAAAAAAAAAAAAAAAAAAAAAAAAAAAAAAAAAAAAAAAAAAAAAAAAAAAAAAAAAAAAAAAAAAAAAAAAAAAAAAAAAAAAAAAAAAAAAAAAAAAAAAAAAAAAAAAAAAAAAAAAAAAAAAAAAAAAAAAAAAAAAAAAAAAAAAAAAAAAAAAAAAAAAAAAAAAAAAAAAAAAAAAAAAAAAAAAAAAAAAAAAAAAAAAAAAAAAAAAAAAAAAAAAAAAAAAAAAAAAAAAAAAAAAAAAAAAAAAAAAAAAAAAAAAAAAAAAAAAAAAAAAAAAAAAAAAAAAAAAAAAAAAAAAAAAAAAAAAAAAAAAAAAAAAAAAAAAAAAAAAAAAAAAAAAAAAAAAAAAAAAAAAAAAAAAAAAAAAAAAAAAAAAAAAAAAAAAAAAAAAAAAAAAAAAAAAAAAAAAAAAAAAAAAAAAAAAAAAAAAAAAAAAAAAAAAAAAAAAAAAAAAAAAAAAAAAAAAAAAAAAAAAAAAAAAAAAAAAAAAAAAAAAAAAAAAAAAAAAAAAAAAAAAAAAAAAAAAAAAAAAAAAAAAAAAAAAAAAAAAAAAAAAAAAAAAAAAAAAAAAAAAAAAAAAAAAAAAAAAAAAAAAAAAAAAAAAAAAAAAAAAAAAAAAAAAAAAAAAAAAAAAAAAAAAAAAAAAAAAAAAAAAAAAAAAAAAAAAAAAAAAAAAAAAAAAAAAAAAAAAAAAAAAAAAAAAAAAAAAAAAAAAAAAAAAAAAAAAAAAAAAAAAAAAAAAAAAAAAAAAAAAAAAAAAAAAAAAAAAAAAAAAAAAAAAAAAAAAAAAAAAAAAAAAAAAAAAAAAAAAAAAAAAAAAAAAAAAAAAAAAAAAAAAAAAAAAAAAAAAAAAAAAAAAAAAAAAAAAAAAAAAAAAAAAAAAAAAAAAAAAAAAAAAAAAAAAAAAAAAAAAAAAAAAAAAAAAAAAAAAAAAAAAAAAAAAAAAAAAAAAAAAAAAAAAAAAAAAAAAAAAAAAAAAAAAAAAAAAAAAAAAAAAAAAAAAAAAAAAAAAAAAAAAAAAAAAAAAAAAAAAAAAAAAAAAAAAAAAAAAAAAAAAAAAAAAAAAAAAAAAAAAAAAAAAAAAAAAAAAAAAAAAAAAAAAAAAAAAAAAAAAAAAAAAAAAAAAAAAAAAAAAAAAAAAAAAAAAAAAAAAAAAAAAAAAAAD/4QjdaHR0cDovL25zLmFkb2JlLmNvbS94YXAvMS4wLwA8P3hwYWNrZXQgYmVnaW49J++7vycgaWQ9J1c1TTBNcENlaGlIenJlU3pOVGN6a2M5ZCc/Pg0KPHg6eG1wbWV0YSB4bWxuczp4PSJhZG9iZTpuczptZXRhLyI+PHJkZjpSREYgeG1sbnM6cmRmPSJodHRwOi8vd3d3LnczLm9yZy8xOTk5LzAyLzIyLXJkZi1zeW50YXgtbnMjIi8+PC94OnhtcG1ldGE+DQogICAgICAgICAgICAgICAgICAgICAgICAgICAgICAgICAgICAgICAgICAgICAgICAgICAgICAgICAgICAgICAgICAgICAgICAgICAgICAgICAgICAgICAgICAgICAgICAgICAgCiAgICAgICAgICAgICAgICAgICAgICAgICAgICAgICAgICAgICAgICAgICAgICAgICAgICAgICAgICAgICAgICAgICAgICAgICAgICAgICAgICAgICAgICAgICAgICAgICAgICAKICAgICAgICAgICAgICAgICAgICAgICAgICAgICAgICAgICAgICAgICAgICAgICAgICAgICAgICAgICAgICAgICAgICAgICAgICAgICAgICAgICAgICAgICAgICAgICAgICAgIAogICAgICAgICAgICAgICAgICAgICAgICAgICAgICAgICAgICAgICAgICAgICAgICAgICAgICAgICAgICAgICAgICAgICAgICAgICAgICAgICAgICAgICAgICAgICAgICAgICAgCiAgICAgICAgICAgICAgICAgICAgICAgICAgICAgICAgICAgICAgICAgICAgICAgICAgICAgICAgICAgICAgICAgICAgICAgICAgICAgICAgICAgICAgICAgICAgICAgICAgICAKICAgICAgICAgICAgICAgICAgICAgICAgICAgICAgICAgICAgICAgICAgICAgICAgICAgICAgICAgICAgICAgICAgICAgICAgICAgICAgICAgICAgICAgICAgICAgICAgICAgIAogICAgICAgICAgICAgICAgICAgICAgICAgICAgICAgICAgICAgICAgICAgICAgICAgICAgICAgICAgICAgICAgICAgICAgICAgICAgICAgICAgICAgICAgICAgICAgICAgICAgCiAgICAgICAgICAgICAgICAgICAgICAgICAgICAgICAgICAgICAgICAgICAgICAgICAgICAgICAgICAgICAgICAgICAgICAgICAgICAgICAgICAgICAgICAgICAgICAgICAgICAKICAgICAgICAgICAgICAgICAgICAgICAgICAgICAgICAgICAgICAgICAgICAgICAgICAgICAgICAgICAgICAgICAgICAgICAgICAgICAgICAgICAgICAgICAgICAgICAgICAgIAogICAgICAgICAgICAgICAgICAgICAgICAgICAgICAgICAgICAgICAgICAgICAgICAgICAgICAgICAgICAgICAgICAgICAgICAgICAgICAgICAgICAgICAgICAgICAgICAgICAgCiAgICAgICAgICAgICAgICAgICAgICAgICAgICAgICAgICAgICAgICAgICAgICAgICAgICAgICAgICAgICAgICAgICAgICAgICAgICAgICAgICAgICAgICAgICAgICAgICAgICAKICAgICAgICAgICAgICAgICAgICAgICAgICAgICAgICAgICAgICAgICAgICAgICAgICAgICAgICAgICAgICAgICAgICAgICAgICAgICAgICAgICAgICAgICAgICAgICAgICAgIAogICAgICAgICAgICAgICAgICAgICAgICAgICAgICAgICAgICAgICAgICAgICAgICAgICAgICAgICAgICAgICAgICAgICAgICAgICAgICAgICAgICAgICAgICAgICAgICAgICAgCiAgICAgICAgICAgICAgICAgICAgICAgICAgICAgICAgICAgICAgICAgICAgICAgICAgICAgICAgICAgICAgICAgICAgICAgICAgICAgICAgICAgICAgICAgICAgICAgICAgICAKICAgICAgICAgICAgICAgICAgICAgICAgICAgICAgICAgICAgICAgICAgICAgICAgICAgICAgICAgICAgICAgICAgICAgICAgICAgICAgICAgICAgICAgICAgICAgICAgICAgIAogICAgICAgICAgICAgICAgICAgICAgICAgICAgICAgICAgICAgICAgICAgICAgICAgICAgICAgICAgICAgICAgICAgICAgICAgICAgICAgICAgICAgICAgICAgICAgICAgICAgCiAgICAgICAgICAgICAgICAgICAgICAgICAgICAgICAgICAgICAgICAgICAgICAgICAgICAgICAgICAgICAgICAgICAgICAgICAgICAgICAgICAgICAgICAgICAgICAgICAgICAKICAgICAgICAgICAgICAgICAgICAgICAgICAgICAgICAgICAgICAgICAgICAgICAgICAgICAgICAgICAgICAgICAgICAgICAgICAgICAgICAgICAgICAgICAgICAgICAgICAgIAogICAgICAgICAgICAgICAgICAgICAgICAgICAgICAgICAgICAgICAgICAgICAgICAgICAgICAgICAgICAgICAgICAgICAgICAgICAgICAgICAgICAgICAgICAgICAgICAgICAgCiAgICAgICAgICAgICAgICAgICAgICAgICAgICAgICAgICAgICAgICAgICAgICAgICAgICAgICAgICAgICAgICAgICAgICAgICAgICAgICAgICAgICAgICAgICAgICAgICAgICAKICAgICAgICAgICAgICAgICAgICAgICAgICAgIDw/eHBhY2tldCBlbmQ9J3cnPz7/2wBDAAMCAgMCAgMDAwMEAwMEBQgFBQQEBQoHBwYIDAoMDAsKCwsNDhIQDQ4RDgsLEBYQERMUFRUVDA8XGBYUGBIUFRT/2wBDAQMEBAUEBQkFBQkUDQsNFBQUFBQUFBQUFBQUFBQUFBQUFBQUFBQUFBQUFBQUFBQUFBQUFBQUFBQUFBQUFBQUFBT/wAARCAD8AaYDASIAAhEBAxEB/8QAHwAAAQUBAQEBAQEAAAAAAAAAAAECAwQFBgcICQoL/8QAtRAAAgEDAwIEAwUFBAQAAAF9AQIDAAQRBRIhMUEGE1FhByJxFDKBkaEII0KxwRVS0fAkM2JyggkKFhcYGRolJicoKSo0NTY3ODk6Q0RFRkdISUpTVFVWV1hZWmNkZWZnaGlqc3R1dnd4eXqDhIWGh4iJipKTlJWWl5iZmqKjpKWmp6ipqrKztLW2t7i5usLDxMXGx8jJytLT1NXW19jZ2uHi4+Tl5ufo6erx8vP09fb3+Pn6/8QAHwEAAwEBAQEBAQEBAQAAAAAAAAECAwQFBgcICQoL/8QAtREAAgECBAQDBAcFBAQAAQJ3AAECAxEEBSExBhJBUQdhcRMiMoEIFEKRobHBCSMzUvAVYnLRChYkNOEl8RcYGRomJygpKjU2Nzg5OkNERUZHSElKU1RVVldYWVpjZGVmZ2hpanN0dXZ3eHl6goOEhYaHiImKkpOUlZaXmJmaoqOkpaanqKmqsrO0tba3uLm6wsPExcbHyMnK0tPU1dbX2Nna4uPk5ebn6Onq8vP09fb3+Pn6/9oADAMBAAIRAxEAPwD9U6KKKACiiigAooooAKKKKACiiigAooooAKKKKACiiigAooooAKKKKACiiigAooooAKKKKACiiigAooooAKKKKACiiigAooooAKKKKACiiigAooooAKKKKACiiigAooooAKKKKACiiigAooooAKKKKACiiigAooooAKKKKACiiigAooooAbI2xCawfEnjzw94P8k65r2l6KJjiL+0byODzD6KGYbj7Ct2Y7Y2z07+w9fpXwD8KPCPww+J37Qn7QM/xst9F1rxXp2vvaadbeLHjK2uirGPIeFJCFUEFiZF5GB0oA++YLoXCB0ZXRgCrryGHPI9enb1p/nEsFG0HuM5I9K/M74L/Fzxb8GPghrXirwjqdxqHwb8J/E26sII5U+0CXwy7JHvglcFysMjBlYf3nzkdOs8Wftb/FP/AIVrH410W4ji0Px548Xw54UmWxjc2WlqHVboK5UM8zI2A5wuM89CAfoN5nTvnp1x+dHmHIwPlz34/Gvzx8Q/tRfGjw38JPFnmX1suuaX4p0zR7LWLy1tGnmguGCut3bQyOIpFPb5cg54rofjn8TPjp8J/E+n6BaeLf8AhJbez0qTUtSvtB06xfUUYNkPNaO2RAq5G5Bn+dAH3b5nfoPcGk8xhjIA/Ovhfx/+1R4k8WeF/Ay+APG8h1m/8Nza3dLp+gxGacRkgyuLh9sUQIwQMsex6VjfD/8AaU+Lnxm1j4HaHp/iiz8NTeL/AA/e3Wp30Wlx3B82F2USRK/y5+XHUgZPBoA/QIs3BAGD2PBphn2+hPQDpz+NfnR4A/ai+Ms/hD4PeOda8WafqGn+IfH8Xge90SPSIoxLE80kP2ouG3+bmJztAUdOPV+t/tN/FeDwr8dvGdv8RdHs4/hv47vtHsvC0+nQyPf2i3SRxxSPkMMq2xGUZLBxnpgA/QW48UaVZtdJcanZxPahWuBJOiGBWztLgnKjHc4z2q9HdpIqMrK6socMpBBU9we46cj1FfmX8T/Fk48YftVeIH0628+48O+HLh7PUbYTIrPFGxR0Yfw57jg4PUV6VqXxY+K+vfELx14Z8L+MrPwtpXhfwZY63bQrpEE7PK8QPlgMQFRsen0wcUAfdxl2rk8Ae2P50K5ZsEfX29jzXwXon7Unj/4meIPhRof/AAmGj/DiPXPCjeIr/WLizikW9mRynlKJmACfKS2CD6GvbP2Gfi/4n+NHwXfX/FOo2+r6mur31kLu3iWKORIpmRNoHYgZz9aAPopm2qT6c0yORmbB5GcZAx/nkH9K+YrH9p3x3q3h+w1aDwxoCWuo+Hb3xHb+bfy/LFald8bEKRubeMHgDvmtPw1+0B4h8UeIotN8P6Vay3esao0ETatdMIbVV0iyvDgRpuIPn4x3JLZAoA+jmO0Zzim7ztHGCe2K+aNN/aq8QeIvC2ra1pvh7So4/D2gQ63rMN9eshcu04ZLchSCo+zPiRuDuHAxy24/aG8UeIVlvbPTrXS9NXXpdFsv9KIuHlSPfvnQoVCYZflVieM98AA+mFkyeSDk8EdO/wDSns21Sa+Z/Cf7SHiDTPDfhy08QabaX3iTXNKtbjSDbysq6hNJKEZMFQRtDKTgdAxPHI9N8ffEjXNK8XWXhrw9Y6ZPfSafNqc9zq1w0VusUbBSoZQeck5J6AE4oA9JDEtjjHsc/hT6+XLH9ofxHp9xqlrANO1jVp9VvFt7R5pJxHBEkZIj8iM5QMxG9sAZBOACam8P/tcarri+FNSm8PWul+HtZttNma+uJJJFRrvau0tGGWIh3AAkxuOAuSRQB9O0V4p8G/jxqvxC8YTaFrmj2uhXEtlLqNnbq8rPLCkyIWSQr5cyASJl42I+ZcgbsD2ugAooooAKKKKACiiigAooooAKKKKACiiigAooooAKKKKACiiigAooooAKKKKACiimsxVcgZoAdSZrJ1HxTpOiSJFqeq2NhMw3Bbm4SIkdMgMemc/lVQ/ELwv/ANDLo/8A4Hxf/FUWYjoqK5z/AIWF4X/6GXSP/A+L/wCKo/4WF4X/AOhl0j/wPi/+Ko5WHMu50dJXO/8ACwvC/wD0Mukf+B8X/wAVR/wsLwv/ANDLpH/gfF/8VRysOZdzoW5HXH0rzr4jfs5/DH4u6pBqPjLwNofiLUIBtS7vrRXl2/3S/Uj2JxXcaXrVhrcJl069t7+FTgyW0qyKDjOCQeuCKvfhQM51vh14YbwXJ4QOg6f/AMIvJbGzfRxbILUwkYMflgbdpHbFUtS+EHgnWfAsfgq/8K6TeeEoolgj0Wezje1RFOVCoRhcHkEdDyK7CigDzvTP2d/hnovg+PwtY+BtDtfD8dyl6tgllH5f2hCCkxBHLggYY5PFP+JH7Pvw3+MFzZXPjXwVo3iW6s8/Z7jULVZJIwTnaGxnb/sk49q9BooA848T/s4/C7xmuiLrfgLQdSXRIxFpyz2KFbaMciNRjGzPO05Ge1aGgfBHwD4Vu9IutG8I6PpdxpEUkGnyWtmiG1jkJMiR4HyKxJyBjr6V29FAHDp8E/ANtoulaXF4Q0ddN0nUxrVhaLZp5dteh2cXEa4wsm5mO4c8mvKPhv8AsR+AfDfiLxdrninQ9I8Z6xrPjHUPFdne6hp6tJY/aSjCEE53BGVmBPALHAGa+jmUMpBGQaasYVs9T70Acfq3wb8D67c69caj4V0u+n15I49VkntUZr1Y8bFlJHzBcDH0FWIfhX4Qs7/U76Dw5p0N5qdkunXk0dsqtPbKCFhbA5QA4Arq6SgD5y+NX7Ks3jhvCcPhWbwppOjeH4jFb+H9f8K22p2MbZyskWQrxMD2Rwp7g12/7NfwJtP2d/hbZ+ELa/8A7SK3Vxez3IhEKvNM5dwqD7qAngdhXqnljn/AUuwZB546UAc7b/Dfwxa2tvbQ6HZR29vZy6dFEsKhUtpMeZEBj7rbRn1pdK+HXhnQ7yK70/Q7G0uYnMkcsMKqysYUhJBHfy40T6KBXR0UAcLqPwL8Aaw9i994S0q8eyXZC01spwu/ftIxhl3Ena2VGTgDJrYPw/8ADawsi6JYqpu2vsCBQPtDDa0hwOSRjJPoPSuipCM0AeY2vwL0Sz8YeHdSto4LXR9A8+XTdHt7VVSCeZSskpfOSNrEBcADIPUV1HjD4ZeFviCtsPEuiWetG33CJruMMUDABgD6HHI6GulWMKcgc06gDiNS+CPgLV1hW78J6VKsLs6KLZVGWChgQoAKsFAKn5SOoNRR/An4fQ3mnXMfhDSY5dOES2uy2VREIv8AVYUDB2cbMg7cDbjArvKKAOR8K/CXwd4H1m41bQfDthpeozo8T3FvCFYRs+9kT+4hcBiq4UlVJHyjHXUUUAFFFFABRRRQAUUUUAFFFFABRRRQAUUUUAFFFFABRRRQAUUUUAFFFFABRRRQAU1wCpyMj0NOpG+6fpQB4v40sre8+Ml6LiCO4C6BZlRKoYDNzdZI/IflS/2Jpv8A0D7X/vyv+FS+K/8Aksuof9i/Z/8ApTd1Yr2cOl7NM8qu3zspf2Hpv/QPtf8Avyv+FH9h6b/0D7X/AL8r/hV2iumyMLspf2Hpv/QPtf8Avyv+FH9h6d20+1B9fJX/AAq7RRZBdknwVt4bfxB45SGGOFFvrbCxrgc2kRP6k16vXlnwa/5GTx5/1/Wv/pHDXqdeFV+NnsU/hQUUUVkaBRRRQAUUUUAFFFFABRRRQAUUUUAFFFFABRRRQAU1m2qT6c06mSsFjYnp3oA4v4sfGLwx8EvCo8ReLr5tP0o3C2wlSF5SZGBKgKoJ6A9u1eN/8PGvgX/0NFz/AOCu5/8AiK5H/gqLMi/s42yOyrLJrlrhCwyQElJx64z1HtX5PKorxcZjZ4aagl0P03hrhfD51hpVq02mnbQ/ZD/h418C/wDoaLr/AMFdz/8AEUf8PGvgX/0NF1/4K7n/AOIr8cMD0o2iuD+1avY+v/4h9gf+fsj9j/8Ah418C/8AoaLr/wAFdz/8RR/w8Y+BjcDxPdE9saVcn+SV+OG0UjKNpo/tWr2D/iH2B/5+SP3D+Ef7XXwz+N/iZtA8Ja3JfaqsLTmCSzmi+ReDy6gV7KzYr8lv+CYbFf2jJwOF/sm4wvYfMK/WV/mQ9uOte7hazr0lNn5LxBlsMpx0sLSd0rb+Z5prHxT8RR+KNa0rR/Dul3lvpc0cD3F9q0luzs8KS8Itu+MCRR1qD/hZnjf/AKFXw9/4P7j/AOQqy8bfiJ47x/0EIM8/9ONsf8/QVpbvavfpUITgmz42daUZWHf8LM8b/wDQq+Hv/B/cf/IVH/CzPG//AEKvh7/wf3H/AMhU3d7Ubvatvq1PsZ/WJ9x3/CzPG/8A0Kvh7/wf3H/yFR/wszxweB4V8PljwP8Aifz9e3WzFN3e1DHcpGOoIo+rQ7B7efc6/wCHHjO58caDJfXVhFptzDeT2ctvDcGdA0TlCQ5VcjI9K6uvN/gWc+GdWJ/6Duo/+lDf416N/FXjyXLJo9KOqQ6iiikUFFFFABRRRQAUUUUAFFFFABSN90/SlpG+6fpQB474r/5LLqH/AGL9n/6U3dWKr+K/+Sy6h/2L9n/6U3dWK9rDfw0eVX+NhRRRXSc4UUUUAWPg1/yMnjz/AK/rX/0jhr1OvLPg1/yMnjz/AK/rX/0jhr1OvBq/Gz2afwoKKKKyNAooooAKKKKACiiigAooooAKKKKACiiigAoopD+VACO21Scge5qhrOtWuh6XdX17KsVtbrukbqcdhj1PAA75q1cXCW8DyyssUaKXdn+6qjkknsMVwWlwv8StYi1e8jZPDloxOnW78fa5Bx57j0H8Kn60AfGH/BQz4fy6j8K5viTrM15HqV9qFlZWGkyy5hsLcLKchf8AnrJwzc9hjHNfnU20YwTn6f8A16/Wv/gp5ctZ/s3wsgVi2t2wO9Qf4ZK/J3+0ZS33Yv8Av2tfL5moe2V+x+7cC1K8cBNU4XXN3Ku4e/5Ubh7/AJVa/tCX+7H/AN+x/hR/aEv92P8A79j/AArx7Q/mP0n22K/59fiVdw9/y/8Ar0ZHqfyq1/aEv92P/v2P8KG1GXafli/79ii0P5he2xX/AD6/E+tP+CYWG/aMm6/8gq4/9CFfrRj5SPavye/4Jj30kn7RFwhWPB0q4+6gB+8K/WHt+FfXZeksOrH868XynLNpuatojxY/8lD8d/8AYRgH/kjbVo1nH/koXjz/ALCUH/pDbVo19dh/4aPzOr8bCiiitzIKKKKBrc0vgX/yK+rf9hzUf/R7V6RjvXm/wL/5FfVv+w5qP/o9q9JrwKnxM9mHwoKKKKzLCiiigAooooAKKKKACiiigApG+6fpS0jfdP0oA8d8V/8AJZdQ/wCxfs//AEpu6sVX8V/8ll1D/sX7P/0pu6sV7WG/ho8qv8bCiiiuk5wooooAsfBr/kZPHn/X9a/+kcNep15Z8Gv+Rk8ef9f1r/6Rw16nXg1fjZ7NP4UFFFFZGgUUUUAFFFFABRRRQAUUUUAFFFFABRRRQAU1vun/AAzQ7bVJ/nXFeKNdvdc1Y+FtDlMN2UWTUb9ePsUR5AH/AE0cA4HYZJoAp6hcP8StYm0i3Zk8N2MuzULmMnF3MOTboe6rgbj0P3a7lY47O2RI1WKONNqLjhAOAMegFVdH0ey8OaTb2GnQi3tLdPLjjUZ2j1Prk8k9TXG3V1cfFKZ7WzlktvCkbGO5vInI/tBujRxMDzF2LdG5FAHx9/wUh+J2o+MPhm+k6Z4euD4Ts9RtZH8TTgrBdTnzl8q267wm35nJHJAAPWvzd71+sv8AwU0061tv2ZbW3i8uzt4datRHGq4UAJKAAB061+T/AJMP/P1H+R/wr5fM4OVVW7H7twLioUcBOMt+bsRbvejdUvkw/wDP1H+R/wAKPJh/5+o/yP8AhXjezkfpP9oUuz+5kWaKl8mH/n6j/I/4Uvkxc/6VH+R/wp+zkL+0KPZ/cz63/wCCYn/Jxs//AGCrj/0IV+tPrX5N/wDBMaGL/hoqci4R2/sq4+Vc5+8Pav1j9a+uwCcaCufzpxfUjUzaco9keLn/AJKF48/7CUH/AKQ21aNZx/5KF48/7CUH/pDbVo19dh/4aPzSr8bCiiitzIKKKKQGl8Cv+RY1b/sOaj/6UNXpNeb/AAJ/5FnV/wDsOaj/AOlDV6RXg1PiZ7VP4UFFFFZlhRRRQAUUUUAFFFFABRRRQAUjfdP0paRvun6UAeO+K/8Aksuof9i/Z/8ApTd1Yqv4r/5LLqH/AGL9n/6U3dWK9rDfw0eVX+NhRRRXSc4UUUUAWPg1/wAjJ48/6/rX/wBI4a9Tryz4Nf8AIyePP+v61/8ASOGvU68Gr8bPZp/CgooorI0CiiigAooooAKKKKACiiigAooooAKRjgUkjFVJBAPqelYHizxZD4Z00StC13dXDi3tLGPiS5mbog9AOSzYwoBPagCr4w8VXOm/ZtK0qOO58QagG+zxMTtgQD555P8AYTj03EhR1zVnwn4YtvCOlm3id7i4kZri7u5Dl7iZsF5G9z2HYDFUfBvhWXQ/tWr6o4vPEWoYlvblRwoGdsEQzwiDgep+Y81kzXM/xSuX0+0d4PCUTeXeXkbENqBHWGJuoj7NIPvfMFK9aAEvLif4qXEthaSND4UjPl3V5BIVN+w6xxsORHxguPvfMBjrXeW9nb6XZxw28KwwRKFjijUBVAGAqjoPpS2tjBptrFBbRJBDEojjijAVVUcBQB0ArmvEHjKRLw6Lotr/AGprkiFmjziK2U8B5m/h9l+8fagD5h/4Kiarap+z3aWRu4FvX1m3dbcyASOoWQMyrnJANflHuOe/5mv0b/4KDfAnQPBfwj1Pxxsa88Xa1rFnHf3oAWPKrMcRoANo+YjvnAzzzX5yc8fKRXyuaJ+2Xofv/AMoLL53f2hc+5/M0bvc/maTmk2mvHtLsfpvtId0Lu+v5mlVuR1/M03DUcrye1HLLsHPDuj6+/4JhMf+Gi5v+wVP3Pqv+NfrQe9fkt/wTB/5OLm6/wDIJn9PVR6+1frVjv3r67LtKCTP5r4ykpZvNx7I8WP/ACULx5/2EoP/AEhtq0azj/yULx5/2EoP/SG2rRr7DD/w0fl9X42FFFFbmQUUUUgNP4E/8izq/wD2HNR/9KGr0ivN/gT/AMizq/8A2HNR/wDShq9IrwanxM9mn8KCiiiszQKKKKACiiigAooooAKKKKACkb7p+lLSN90/SgDx3xX/AMll1D/sX7P/ANKburFV/Ff/ACWXUP8AsX7P/wBKburFe1hv4aPKr/GwooorpOcKKKKALHwa/wCRk8ef9f1r/wCkcNep15Z8Gv8AkZPHn/X9a/8ApHDXqdeDV+Nns0/hQUUUVkaBRRRQAUUUUAFFFFABRRRQAUjNtGf50N0461BeXMdrbTSzusUKKWd5DhVUdST2HvQBR17xBa+H9HudRvpVgtYEDuxGTz0UDqWJ4CjkkgVzPhXRbq+1KTxZr8DQatNH5dpYk5Gn2/XbyceY3BdvcDoDmvo8MvxA1mLxDqCNFoNi5bSLWQbfNkH/AC9v68fcB6DJPOCIry4k+KV41haSND4PiJF3eROQ2osDgwRnqIgf9Y/8X3RkEmgB1xdT/FS5bT7J3g8IocXV9ExVtQIOGhhYYIiz96TGTgquM7h3cMNvpdokcKR29vCu1EA2KigYAA7AD8qp3d9p3hbRzNK8Gn2NogjAchUQKPlUfh0A5+vSuUhtNU+Jkyy363Gj+FPvR2eTHc6j6NLzmOLjiP7zcEkDKkAlv/Eep+NppdP8MSfZdPBMdzrxGQvqtuP43/2vujrziuk8NeF9O8L2K2mnwmMfekkkJaWZz1kkY8sx9T+nStG2sbfT7WOC2hS3gjASOKJdqoOmAB0FVtW1yy0Gza6v7qK0t1/jmfA+g9T7DmgD5T/4KfXD237NUTLtYnW7VT5kauD8sp6EY7V+Th1Kbpst8f8AXtF/8TX6If8ABQbx3438afCfWIr3wvb6B4Hsdcs49P1C5eU3epuUlO9UZUEaAeobPrX5zHtXy+ZzlGsrdj954Dw1Ktl85TV3zfoiz/aEv9y3/wDAaL/4mj+0Jf7lv/4DRf8AxNVufWjn1ryPaz7n6X9Rw/8AKWf7Ql/uW/8A4DRf/E0f2hNz8luPpbRj/wBlqtz60Gj2s+4vqOH/AJT7G/4Jj3kkv7RNxGwj2nSrj7sSKfvDuBX6w9jX5L/8Ew/+Tjpv+wVcf+hCv1o7GvrcvblQTZ/OXGNONPNqkYaKyPFj/wAlC8ef9hKD/wBIbatGs4/8lC8ef9hKD/0htq0a+uw/8NH5jV+NhRRRW5kFFFFIDT+BP/Is6v8A9hzUf/Shq9Irzf4E/wDIs6v/ANhzUf8A0oavSK8Gp8TPZp/CgooorM0CiiigAooooAKKKKACiiigApG+6fpS0jfdP0oA8d8V/wDJZdQ/7F+z/wDSm7qxVfxX/wAll1D/ALF+z/8ASm7qxXtYb+Gjyq/xsKKKK6TnCiiigCx8Gv8AkZPHn/X9a/8ApHDXqdeWfBr/AJGTx5/1/Wv/AKRw16nXg1fjZ7NP4UFFFFZGgUUUUAFFFFABRRRQAUhpaRiQpI5PbNACOcIe30Ga871CRviRrE2nR7/+EX0+Um8ljJxfzLg+QuDzGv8AEe5wPWrfinWrvxHq3/CMaPMYMKJNU1CM4NrEeRGvpK4BGD91cmsi0tU8aLDomiK1j4LsCIXnhYqb8pwYkI5EYJ+aQHJPAoAszTS/E2ZtPs2+z+DLf93dXEXB1DHBhjPaH+8w+9gqCBnO/wCIPEmmeB9Ot7dYXluXCw2OmWKhpp26KqLkAdOWb5QBknGazdX8TfYZ4/DXhS0jutVRFX5fltNOUcb5iuPwjHLYHQEmtDw/4KtNFaa7vJ5NU1i4Ui51S5wHfnO0L0RPRBxjg5oAz9H8I3ms6hDrXiwxTX8R3WmmQkta2GfQn/WSDHMhxg/dVcCuzMn2dSx6DkliOB1zn09ziuc17xrYaHeGwtorjWNdZAyaZYL5kwXoGfPESk/xuQDjqTgVQh8Haj4sZLjxdcxy2z/Omh2LYtYiD/y0frM3TrhQei96AH3nj+41mZ7LwraRapOG2PqMzlbCA553SDmRv9hM89WAyRY0nwDDFeJqOt3b6/q/X7RcqFii9ooR8qAe+W9WrqILOGzhSKCJYYkAVI4wFCgdhilOcZwd3p/9YUAfI/8AwU+hWb9m1A0qw/8AE8tSGfOD8knHAJr8nPsadft1tn6Sf/EV+nn/AAUu+I/hXXvgdJoGneItMv8AXLLXLb7Rp9vdJJPD8kud6A5X8a/Lz27V8xmclGqrrofuvAtCdTATlGbj7xN9jX/n9tv/ACJ/8RR9jX/n9tv/ACJ/8RUGPejHvXk88ex+k/Vav/P1k/2Nf+f22/8AIn/xFH2NcH/Tbbp/00/+IqDHvSr94flRzx7B9Vqf8/WfYf8AwTEgRf2h7hxdQSMNKn+RA+T8w9VH86/WPsa/Jb/gmCM/tGTD/qE3H81P9a/Wk/dr6vL2nQVj+deL4Shm04yd3ZHix/5KF48/7CUH/pDbVo1nH/koXjz/ALCUH/pDbVo19dh/4aPzOr8bCiiitzIKKKKQGn8Cf+RZ1f8A7Dmo/wDpQ1ekV5v8Cf8AkWdX/wCw5qP/AKUNXpFeDU+Jns0/hQUUUVmaBRRRQAUUUUAFFFFABRRRQAUjfdP0paRvun6UAeO+K/8Aksuof9i/Z/8ApTd1Yqv4r/5LLqH/AGL9n/6U3dWK9rDfw0eVX+NhRRRXSc4UUUUAWPg1/wAjJ48/6/rX/wBI4a9Tryz4Nf8AIyePP+v61/8ASOGvU68Gr8bPZp/CgooorI0CiiigAooooAKKKa2dp24z2zQArNtUmuQ8beLLqza30bRUWbXtQUmHdysEX8U7+ijnHqcCr3i/xYnhnTUcRi71C6fyLGwVsPczHog54A5LE4AAJJwK8qso4tQtdWvtT1FYNJLk6xrOSGv5BwbW27+UhwmVyWbheuaANjRNLj8RW0ml6ZPJH4Wt5HbUtXdsTarNkF8HjCE53P6DaCBzWta6ndeMEXTPCuNM8PW6+U2sRoP3qjgx2oPDAHgyHgdACfmEcOmy+KNPSbWI/wDhHfB9quY9JkZYmkjAyr3DZ+QY58vpg/Me1XIPFF/4phjtvB9nFa6Sq7U1i8hKQMgGMW0XVxjjcQE9C3QgGkZfD/wz0eJD5en23mYVSGkmuJD1wBl5pD7Ak9Bnoc+EeJvHGwv9o8I6Iy8Rgg6jN1xvIJWAEc4Us/8AeKHK1q6L4J07RbltRuWk1PV2XD6jfHe+McqgxhFxnhQOKoP8TNOuriS18PW134tukO1v7JUPbIw4Ie4crCpHdAxf/ZPSgDf0XwvpXhvTzZ2FnHbwklpCfmaRjwXdjksx7sck0/WNe0vw3btc6jf29jH13XMoQnnHQ8n2/KufGmeLvEC5v9RtfD1uTza6VulmHH8U7qB+SD6mtDRfh7oej3aXiWhu9QUcahfOZ5888hmzt6/w4oAzl8dav4gyvhnw/NLAfu6rrG6ztj7ohXzn9fuKpHRzR/wg17rgDeJddub7Iw1jYZtLb8ADvI+rGu1Eaq2QME8nHGT60MgA6nrnrQB8Qf8ABSL4f+G/Cf7Pt1qGkaJZaXf6hrlmbu5t4gslwVSQKXbvgetfltuU/wAQ/Mf41+tv/BTq6ktf2b4niKZOt2oKsocfdk9f8K/J/wDtW4/6Y/8AgPH/APE18vmfJ7Vc3Y/deBpYhYCfsoprm7lPKf3v1H+NGU/vfqP8auf2rcesP/gPH/8AE0f2rcesP/gPH/8AE14/7vufpPtMb/KvvKeU/vfqP8aN6LyWHHuP8auf2rcesP8A4Dx//E0f2rcesP8A34j/APiaP3fcXPjf5F959Y/8Ev2DftHT4YH/AIlNxjBGeqj+lfrVX5Qf8EydRnn/AGi50cx7TpU+dsSj+IdwK/V88Z+lfXYC3sFyn878YSnLNpupvZHix/5KF48/7CUH/pDbVo1nH/koXjz/ALCUH/pDbVo19dh/4aPzKr8bCiiitzIKKKKQGn8Cf+RZ1f8A7Dmo/wDpQ1ekV5v8Cf8AkWdX/wCw5qP/AKUNXpFeDU+Jns0/hQUUUVmaBRRRQAUUUUAFFFFABRRRQAUjfdP0paRvun6UAeO+K/8Aksuof9i/Z/8ApTd1Yqv4r/5LLqH/AGL9n/6U3dWK9rDfw0eVX+NhRRRXSc4UUUUAWPg1/wAjJ48/6/rX/wBI4a9SY4FeW/Br/kZPHn/X9a/+kcNepN9014NX42ezT+FDPMPHHHrS7j/kGvzk/as/by+Jvwf+P3ivwd4dXRf7I0s2oha8snkk/eWkMzbiJAD80rAcDgD615Mf+CnXxp6Y8Nf+C1//AI7Xk1MfRpycZbn2uF4TzPGUY4ilFcstVqfrruo3V+RP/Dzr40enhr/wWv8A/HKP+HnXxo9PDX/gtf8A+OVn/aWH7s6/9Ss3/kX3n67bqTdX5Ff8POvjR6eGv/Ba/wD8coH/AAU6+NH/AFLIPQf8S1//AI7R/aWH7sT4LzdK/IvvP108w89AfQ1meI/Eln4a0W71K/k8q1t1y20FmYkgBFHdiSFCjkkgV5n+zP8AFbU/in8A/D/jXxI9rBfXkU0tzJEghhVUldc4ZjgYTnJ9a8K+IXx3g+KnilRDcG18L6fJttRKTCbmXlfOYZDAHOByCo/uswdfUjJSSaPiatOVGbhLdaHo0muXPjjWn1G+SV2vQ1vbadZMHmnjHDW8XZU5HnTfdPKA43Y6ix2f2pCq2cXiXX7HbFBpliQunaJt6I7nKiQD6ydwAo3DmPBWi6zrVmTY6VeLYzxJFLIT9iE8a5AiaXaGSIZOI4ECYz85LEnqbeTQ9MiGk6r420/Tra1GweHvDUot2jH90mMmdh6425PJzTMjQ1T+xrXV4R4y1Ya5rmBNbeH7GJpQvOdyWybnfBH+scbcgNxjI6D+1vFfiAY0/SovDtq3/LfVcSz/AEEKHAPHdz9KzPD/AIk8NaJatb+FfC2p3EUj75VstLaAu/8Affz/ACyzf7XJPrWw3iDxTdMDa+ExbhuFe+vkBHuVQN/OgBsfwzs75vM8Q3134kY8mG+fFt9BCMKR/vBunrXWW9rDZ26QwKsEKAKkcY2qgHQADgACuSaz8b32N2qaPpLd2tLWS63fXcVxT4/A2pXTZ1DxhrMxb/WRWhito/w2pvX8HoA61QqqDnp+X+Fc1qnxQ8IaLefZb3xLpMF8OlmbyMzn2WMHcx9gKhb4Q+E7kY1HSv7dHXGuXEuogH1AuGcD8K6PStD0/QrVbbTbK30+2XpDaxiNB+CjFAHNf8LOt7pf+JZoHiDVjn7sWmS23HruuREpHuCaVfEniu/UG18JpaRN0bUdQVHX3KRq+fpurr/LGc80MuORQB+fn/BQSx+Ja/BHVLrxnq+iSaM3iK2TTdN0u1IkjTZJh5JWbJPsFr83O9frZ/wU8ijk/ZtjWSXyR/bdrhiu7oklfkz9mhyT9vT/AL8N/jXy+Zwcqq9D924FxKo4CcXFv3uiIse9GPepvs8P/P8AR/8Afpv8aPs8P/P9H/36b/GvH9m+6P0v6/D+SX3EOPegipvs8P8Az/R/9+m/xo+zwnP+nR/9+m/xo9m+6F9fh/JL7j62/wCCYnH7Rs//AGCrj/0IV+tPavyc/wCCY0MK/tFT4ulkf+ybjCiMjPzD3r9Yz3r67ALloI/nPi+oqmbTklbRbnix/wCShePP+wlB/wCkNtWjWcf+ShePP+wlB/6Q21aNfXYf+Gj8zq/GwooorcyCiiikBp/An/kWdX/7Dmo/+lDV6RXm/wACf+RZ1f8A7Dmo/wDpQ1ekV4NT4mezT+FBRRRWZoFFFFABRRRQAUUUUAFFFFABSN0NLSN92gDxzxUf+LzX/wD2ALP/ANKLr/GrNVvHVvqNj8UZ9Sj0bUdQsZ9HtrdZrK38wCRZ7hmU4PXDIeneqn9sXv8A0LWvf+ADV61CpBU0mzza1OTndGpRWX/bF7/0LWvf+ADUf2xe/wDQta9/4ANW/todzD2cuxqUVl/2xe/9C1r3/gA1H9r3vQeGtfz0H+gMaPbQ7h7OXY3Pg3/yMfjz/r+tf/SOGvUW+7XmXwbsr+HVPFl7eaddabFfXkLwR3kex2VbaNCcZ6ZWvTWPynvXjVHebaPVp6RVz8Wv2/v+TvviEBx81h/6brWvn78a+1v2yP2Wvij8RP2mPGviHw54SvNU0a9NmYLuLbtk22UCNjJ7MhH4V41/wxJ8bD18Bah+af418XisPVlWk4x0P6WyDOcvw+WUKVWslJRV1c8N/Gj8a9y/4Yj+Nf8A0IWof99p/jR/wxH8a/8AoQtQ/wC+0/xrk+q1/wCVn0H+sGWf8/4/eeGZpVbnnJ9h39vb617kf2I/jX28BX//AH2n+NN/4Yj+NnfwDf4PB+dP8aawta/wsiWf5Y4te3j959E/s/8AgH45fHj9mfQvBejX2keBPAMayLLq+WlvNWHnMxiCjOyMEkHIw2MHIyD9C/DL9kyf4WRxmztlu7rGHvBfqszHGDtm8jzolP8AcSRV9q7r9jfwXrfw+/Z58JaB4jsn03V7VJxPayEbkJnkK5x6qQRXt20Zr7WlpBJn8vY+camKqTi7q7PHf+FdiRh/aXgC38QvnIbWdWOpEf7v2ouV/DFdRp97rGk28dtYfD6Oyt4eEht7y3jRf91QMD8K7zaOnajFanCcf/wk3ifgnwZPx6alCf60f8JdrkfEng6/z6JcQt/7MK7DaPSjbQBx/wDwnF8v+t8Ja0p/2Vif/wBnpR8QpB18K+Ige/8AoS/z3115XIxRtA6DFAHI/wDCwn/6FbxEP+3Jf/i6P+FkW6/63RNch/37En+RNddgUbaAOQ/4Wloy/wCtg1SL/e02Y/yU0j/FXw9ggy34/wBn+yrrP/ouuw2/X86bJ9w0AfAX/BQj43+FfiR8C9T0PQ7m9k1DSPEVvBdpcWM0ChgkmdrOoyORX5rd+lfrF/wVCVLf9mwMAsUba7au7KNoJ2yglv8Ax3k+1fkqL62J/wCPiIf8DX/Gvls0jKVVNLofvfAdalTy+alJL3ixx6UcelQ/bLb/AJ+ov++x/jR9stv+fqL/AL7H+NeLyT7H6b9aw/8Az8X3om49KOPTFQ/bLb/n6i/77H+NJ9stf+fmM9h8wP8AWjkn2D63Q6TX3o+xf+CYTH/hoyYf9Qic/wDjwr9aO3vX5J/8EvJUn/aMuDG6sBpE+dpJ/iHfGK/Wtm2qa+wy+LVBI/m3jGUZ5vUlF3VkeLn/AJKF48/7CUH/AKQ21aNZq8/ELx2TxnULc4x/0421aX5/lX19DSmj8wq6zYUUfn+VH5/lXRcysFKvJApPz/KlztIPTn+LgUm9AS1NL4E/8irqp9dc1D/0e1ekV5t8CWI8LamCOut6geh/57t7V6TXz1T42e3D4UFFFFSWFFFFABRRRQAUUUUAFFFFABTWG5SCMg8U6kZdykdM0Acj4U1S5uvFni6zuZmaO2vIPs8ZxhYntYjleBwXEg+qtXW8etcvrngd9S1w6tYa7qWg3zwLbTS2CwOJo1ZmQMJopB8pd8FcfePWq3/CD65/0ULxD/4Dad/8iUrAdjx6mjj1Ncd/wg+uf9FC8Q/+A2nf/IlH/CD65/0ULxD/AOA2nf8AyJTA7Hj1NHHrXHf8IPrn/RQvEP8A4Dad/wDIlH/CD65/0ULxD/4Dad/8iUAdewVfmyRjtk4/Kk5ZQDxmuNuvA/iD7PJ5PxC10TY/d+da6eU3ds4tQcZx0Ncb8HdW8SfGLwDpfjCbxLqPhyHVd09rp+nW1nsjt9zCMnzYHYs67XPOMngAcUAey+Wv/wBal2rXH/8ACD65/wBFC8Q/+A2nf/IlH/CD65/0ULxD/wCA2nf/ACJQB2OF9KML6CuO/wCEH1z/AKKF4h/8BtO/+RKP+EH1z/ooXiH/AMBtO/8AkSgDsDjsBXJ/FXV7vQ/hz4ivdPkMOoLaSR2kkagss7jZER7h2Wo/+EH1z/ooXiH/AMBdO/8AkSoLr4Yzaw1tFrPi3W9a0+KeO4awuYrOOKVo3EibjFbo+A6q3DDO3ByMigDrdPWQ28JmYmUxruJ7nAz9Of5mrlIF29/enUAFFFFABRRRQAUUUUAFFFFABTXXcpB6HrTqRjhSaAKd/a2d9EkV3FBPGzYRZ1DAtjjAPfGaqDwpoxP/ACCrHH/Xun+FYPxEcxah4NdXZQNcjV2GeFME+c+3Arsg3Oe3T+dTyp7ouM5R0i7Gb/wiei/9Amy/8B0/wo/4RPRf+gTZf+A6f4Vqbx/k0bx/k0+Vdh+0n/MzL/4RPRf+gTZf+A6f4Uf8Inov/QKsh9LdP8K1N4/yaN4/yaOVdg9pP+ZlGx0DTdMmaW0sba2lYbS8MKocemQKvNHu4yR9KDIMUxZCzHpgHHv/AJ6UyHJyd2zgta+DsWqeItV1i28U67o8mpSpNPb2Qs2i3pEkQI823dh8sY/i65qt/wAKVm/6H3xN/wB+9O/+Q69J3j/Jo3j/ACatVJJWTM+SN72PNv8AhSs3/Q++Jv8Av3p3/wAh0f8AClZv+h98Tf8AfvTv/kOvSd4/yaN4/wAmq9rPuHJHsebf8KVm/wCh98Tf9+9O/wDkOj/hS9wvK+P/ABOjDo3labx/5J16TvH+TSNINp/xFHtZ9w9nHsc54F8H2fgnSZNOtLy41Hdcy3UtxeGMytLKxdi3loqj73GAOK6auA+GczalrfjTVBLvhuNYaCPB4xBEkLY56b1Y8V39ZPXVlbBRRRQMKKKKACiiigAooooAKKKKACiiigBKRvlXP8zinVzHxQ8ZD4c/DXxZ4sa2a9XQtJutUNshwZRBC0hQHsTtx+NAHRBuo/iHX/OaFY4GcZ6HB6H0rwfWPF3j74Y2fhXX9d12x8TWWq6hZ6fqGlWlisSwNdMsaNaujMxCSOhPmFtykkbcVlp+1jFG2jaxfeHtX0rTNU0m4v8AT7CU27zX2JIEjxtk+RmaXADY654oA+juc44B+tDEKpJOAOTXz/qX7Tjafql3Z6z4c1bw7d6S4+22Upgm89TbyTDy5FfaQAmNwJycjAwavWH7UMNzp9zLfeENS0u4XTLbV7a3uLu0Kz2k7BUkaUS7IwDncHIIAJGTwQD2+QnaRkA9iOfxxXP/AA+8J2/w/wDBOieG7STzLfS7SOzRiNudigZryv4f/tFR/FPxx4fsdIgjhspE1eC/hS6iugZrY22wxzRMUKHzj82c5wMDmnfED49ana6o1p4b0K6u7G08T6X4fvdeMkHkRSTXVussYjMm8/u7gKGCn5yBigD3QN0H8XoD29acP8818y+OP2yIdCsPE1rpugRvrtpomqappsUmqWsgc2iBmFxFHLuhDKwkAySUB5BwK6DVP2qrPwpqGhafruhtZS3z2NtKX1K185Z7oIVEUHmeZKi+YpYgAgHpQB73/nrRj8q+fY/2yfDkem6/qF5pktna6VlcNf2pnMnm+UsU0PmB4HZiGG4FduSWHSotC/aofxp4n0DS/DeiQ6g82p/YdUaLUYLiKFGiaRHilico/CnPPBGMc0AfQ+P85oxTQ3zYx+lPoAKKKKACiiigAooooAKKKKACiiigApOvFLRQBn6zoNj4gsXs9Rt1u7ZiGMb9AQcgj3rA/wCFS+Es5/sePP8A11k/+Krr6KAOR/4VN4S/6A0f/f2T/wCKo/4VN4S/6A0f/f2T/wCKrrWztOOvvTFkYtyuB68/4UAcr/wqbwl/0Bo/+/sn/wAVR/wqbwl/0Bo/+/sn/wAVXU+Y2DnbnpnPGaUSFs4HbI/zmgDk2+EvhLb/AMgaI/70jkfq1cLH4PhuvjQfDYjVPCNnoaaibBJHCyXcs8ke4nOSAsPAzgZr2Tzj1OAvb9f6VXXT7aPVGvhGn21olgabjeyAkhT7Akn8TQBz/wDwqbwl/wBAaP8A7+yf/FUf8Km8Jf8AQGj/AO/sn/xVdSJvUqOPXvS7zuxjv9aAOV/4VN4S/wCgNH/39k/+Ko/4VN4S/wCgNH/39k/+KrqhIc+w6mnBv/10Acn/AMKm8Jf9AaP/AL+yf/FUh+EvhJgQdGjIPBBkkP8A7NXX0UAUdJ0Wy0Kxis7C3S1tYslYoxgc8k+5J5q9RRQAUUUUAFFFFABRRRQAUUUUAFFFFABRRRQAVW1LTrbWNPubC9hS5s7qJoZ4ZBlZI2GGUjuCCR+NWaKAPMNH/Z58M6TeWEst3rGrWum86bp+qX7XFtYEKVUxIR1VWwCxbGB6Vn+MP2c/D+qeELXTtOiEN1pejSaRpsl5K7RwxM8b5baQ24GJcMCCO1evdaNuRigD5+8E/st2qSa/eeM9Ql1jUtXmDM0Vw52KIGhx5jfM2VdsDAA9M5Ndl4k/Zz8H+KPsb3Ud7Fc2djbWFtc29zskijt33xMDjG4HuQfpXpyxhcYJ/E5/WnUAed+D/gT4Y8Fa7FrNkdQuNTR7qQ3N5dtKztceV5pbPqYUPsc+2Ga98B/DniDxMdZmuNUt2fUrXV5rG1vDHbT3duyNFK6Y5IMSdCAdoPXmvR6KAPGrH9k/wLZWMVi39qXOmwWV9p1tYzXp8m3t7tClxHGoAxuUjnr8o5p8f7LHg+O4klN5rbiae0u7iM3+1Z7i2WMQzPtUEuPJjPXGVBxXsVFAHkc/7MHg2+vLq61B9V1OaWGSCBry9LmzV5BIfJOMrh1BGSa1ofgXoitYTXGqa5qF/ZXy6hHf3moNJN5gXbjptCkcFVAr0aigBqxhcc5x6/zp1FFABRRRQAUUUUAFFFFABRRRQAUUUUAFFFFABRRRQBwvx3vp9N+CHxCu7WWS3uYPD2oSxTRMVZHFtIQwI5BBwcjnivBrfTNX+HHwlh8S3WhW9jezf2TBFND4kvL83CS3VvvLJKqBM8Nxk9RnBr6uubaK8t5beeNZYZVKSRuAVZSMEEHqCKhm0mzuLVbWa2iltV24gkQNGNpBX5TxwQCPQgUAfNFr8ffF2i6Tp/iPXb3S10fUrnXLVIUs5CbMWT3IjclWLOWFuMgDndxiuag+OHi/xJ4s0rw7rCzWEltruhXO91htpWhndw0bLDNJ8jbdw3lTg8jOBX1m/hjSZLdYH020eBWkZImgQqpkz5mBjjdls+u4+tUNG+HPhbw7DHFpfh3StOijcSxpa2UUSo4OQ6hVADZycjuaAPEP2jviZ4hs4PGmg6Rren+GotN8NvqYubpT513uLLtjYsoUDGAVLEsRxg1zll+0R4nt9c8M6fYTQ3OkXGp2/h6S5nhiWIXBtyTh5J1neQOpY4i2YGM/xV9N694L0DxS0Dazoun6s8BJia+tY5zHng7S4OOCRx61Afh54YOrPqn/AAj2ljU3ADXv2OPzmAORl9uTg+tAHyBZftJeN/CvwT028tNSj8Q6zpXhBfEWof6JEMBmmEQuJJZo1VT5Pl4QNJuB+UHap7bUP2nPE+g+Jr27vrK3ufDplmt7GPTViuIriVNON0LV2WXzoLksDkSQhAo5YE5Hv9x8KfBd5JHJceE9EuJI2keN5dPhYoZCTIQSvG4s2713HNX4PAvh2114a5Doenxa0sIthqSWqC5EQ4CeZjdt9s44oA+Sr/4+fEnxF4LVpzD4fe7s9M1eLUGksd0Ylu4EZESG7mZoWV3w7hCNhBySK+x7Fna3h8x/MfauZBwGOBzwT161i2nw28J6fZ39pa+GdItbbUG33cMFhFGlwc5zIAoDHPOT35rft7aO1jSOJBHGgCqigAKoGAAB2FAEtFFFABRRRQAUUUUAFFFFABRRRQAhpNx7jiud+I2vXXhfwTquq2Wz7VbRh08xcrncByPoa+Y4/wBqvxq8SsY9LBK7v+PdvXH9+gD6+3j/ACaN4/ya+Qf+GqvGv9zS/wDwGb/4uj/hqrxr/c0v/wABm/8Ai6APr7eP8mjeP8mvkH/hqrxr/c0v/wABm/8Ai6P+GqvGv9zS/wDwGb/4ugD6+3j/ACaN4/ya+Qf+GqvGv9zS/wDwGb/4uj/hqrxr/c0v/wABm/8Ai6APr7eP8mjeP8mvkH/hqrxr/c0v/wABm/8Ai6P+GqvGv9zS/wDwGb/4ugD6+3j/ACaN4/ya+Qf+GqvGv9zS/wDwGb/4uj/hqrxr/c0v/wABm/8Ai6APr7eP8mjeP8mvkH/hqrxr/c0v/wABm/8Ai6P+GqvGv9zS/wDwGb/4ugD6+3j/ACaN4/ya+Qf+GqvGv9zS/wDwGb/4uj/hqrxr/c0v/wABm/8Ai6APr7eP8mjeP8mvkH/hqrxr/c0v/wABm/8Ai6P+GqvGv9zS/wDwGb/4ugD6+3j/ACaN4/ya+Qf+GqvGv9zS/wDwGb/4uj/hqrxr/c0v/wABm/8Ai6APr7eP8mjeP8mvkH/hqrxr/c0v/wABm/8Ai6P+GqvGv9zS/wDwGb/4ugD6+3j/ACaN4/ya+Qf+GqvGv9zS/wDwGb/4uj/hqrxr/c0v/wABm/8Ai6APr7eP8mjeP8mvkH/hqrxr/c0v/wABm/8Ai6P+GqvGv9zS/wDwGb/4ugD6+3j/ACaN4/ya+Qf+GqvGv9zS/wDwGb/4uj/hqrxr/c0v/wABm/8Ai6APr7eP8mjeP8mvkH/hqrxr/c0v/wABm/8Ai6P+GqvGv9zS/wDwGb/4ugD6+3j/ACaN4/ya+Qf+GqvGv9zS/wDwGb/4uj/hqrxr/c0v/wABm/8Ai6APr7eP8mjeP8mvkH/hqrxr/c0v/wABm/8Ai6P+GqvGv9zS/wDwGb/4ugD6+3j/ACaN4/ya+Qf+GqvGv9zS/wDwGb/4uj/hqrxr/c0v/wABm/8Ai6APr7eP8mjeP8mvkH/hqrxr/c0v/wABm/8Ai6P+GqvGv9zS/wDwGb/4ugD6+3j/ACaN4/ya+Qf+GqvGv9zS/wDwGb/4uj/hqrxr/c0v/wABm/8Ai6APr7eP8mjeP8mvkH/hqrxr/c0v/wABm/8Ai6P+GqvGv9zS/wDwGb/4ugD6+3j/ACaN4/ya+Qf+GqvGv9zS/wDwGb/4uj/hqrxr/c0v/wABm/8Ai6APr7eP8mjeP8mvkH/hqrxr/c0v/wABm/8Ai6P+GqvGv9zS/wDwGb/4ugD6+3j/ACaN4/ya+Qf+GqvGv9zS/wDwGb/4uj/hqrxr/c0v/wABm/8Ai6APr7eP8mjeP8mvkH/hqrxr/c0v/wABm/8Ai6P+GqvGv9zS/wDwGb/4ugD6+3j/ACaN4/ya+Qf+GqvGv9zS/wDwGb/4uj/hqrxr/c0v/wABm/8Ai6APr7eP8mivkH/hqrxr/c0v/wABm/8Ai6KAP//Z)"
      ],
      "metadata": {
        "id": "rjP0ReU3Nwjc"
      }
    },
    {
      "cell_type": "code",
      "source": [
        "df['Churn'].value_counts()"
      ],
      "metadata": {
        "colab": {
          "base_uri": "https://localhost:8080/"
        },
        "id": "UAIRX7SOMadT",
        "outputId": "3006040b-9890-4e8a-e885-686789cfe918"
      },
      "execution_count": null,
      "outputs": [
        {
          "output_type": "execute_result",
          "data": {
            "text/plain": [
              "0    7963\n",
              "1    2037\n",
              "Name: Churn, dtype: int64"
            ]
          },
          "metadata": {},
          "execution_count": 15
        }
      ]
    },
    {
      "cell_type": "markdown",
      "source": [
        "# **Random Oversampling**"
      ],
      "metadata": {
        "id": "O_3GffKuN8ZU"
      }
    },
    {
      "cell_type": "code",
      "source": [
        "from imblearn.over_sampling import RandomOverSampler"
      ],
      "metadata": {
        "id": "Eh7yy6bJN4QJ"
      },
      "execution_count": null,
      "outputs": []
    },
    {
      "cell_type": "code",
      "source": [
        "ros = RandomOverSampler(random_state=50)\n",
        "X_ros, Y_ros = ros.fit_resample(X, Y)"
      ],
      "metadata": {
        "id": "TZKcUNFzOBcC"
      },
      "execution_count": null,
      "outputs": []
    },
    {
      "cell_type": "code",
      "source": [
        "X_ros.shape, Y_ros.shape, X.shape, Y.shape"
      ],
      "metadata": {
        "colab": {
          "base_uri": "https://localhost:8080/"
        },
        "id": "_OQAU7gkOFHq",
        "outputId": "12fd8b93-27ce-4abf-f16b-1565a17ad434"
      },
      "execution_count": null,
      "outputs": [
        {
          "output_type": "execute_result",
          "data": {
            "text/plain": [
              "((15926, 10), (15926,), (10000, 10), (10000,))"
            ]
          },
          "metadata": {},
          "execution_count": 18
        }
      ]
    },
    {
      "cell_type": "code",
      "source": [
        "Y.value_counts()"
      ],
      "metadata": {
        "colab": {
          "base_uri": "https://localhost:8080/"
        },
        "id": "DXH4RvqMOHKL",
        "outputId": "6e1e13ec-90e4-4cfa-fe4d-e2c63d0325f9"
      },
      "execution_count": null,
      "outputs": [
        {
          "output_type": "execute_result",
          "data": {
            "text/plain": [
              "0    7963\n",
              "1    2037\n",
              "Name: Churn, dtype: int64"
            ]
          },
          "metadata": {},
          "execution_count": 19
        }
      ]
    },
    {
      "cell_type": "code",
      "source": [
        "Y_ros.value_counts()"
      ],
      "metadata": {
        "colab": {
          "base_uri": "https://localhost:8080/"
        },
        "id": "q2D7C0WmOLS6",
        "outputId": "1c31be3c-715c-41af-a236-071b38ce118c"
      },
      "execution_count": null,
      "outputs": [
        {
          "output_type": "execute_result",
          "data": {
            "text/plain": [
              "1    7963\n",
              "0    7963\n",
              "Name: Churn, dtype: int64"
            ]
          },
          "metadata": {},
          "execution_count": 20
        }
      ]
    },
    {
      "cell_type": "markdown",
      "source": [
        "# **Train Test Split**"
      ],
      "metadata": {
        "id": "bKk3W0uuOQts"
      }
    },
    {
      "cell_type": "code",
      "source": [
        "from sklearn.model_selection import train_test_split"
      ],
      "metadata": {
        "id": "euvAzsagONG6"
      },
      "execution_count": null,
      "outputs": []
    },
    {
      "cell_type": "code",
      "source": [
        "X_train_ros, X_test_ros, Y_train_ros, Y_test_ros = train_test_split(X_ros, Y_ros, test_size=0.3, random_state=100)"
      ],
      "metadata": {
        "id": "SzPKG0q0OX1J"
      },
      "execution_count": null,
      "outputs": []
    },
    {
      "cell_type": "markdown",
      "source": [
        "# **Standardize Features**"
      ],
      "metadata": {
        "id": "6YKxlzjhOpor"
      }
    },
    {
      "cell_type": "code",
      "source": [
        "from sklearn.preprocessing import MinMaxScaler"
      ],
      "metadata": {
        "id": "OHrdbEqwOuUj"
      },
      "execution_count": null,
      "outputs": []
    },
    {
      "cell_type": "code",
      "source": [
        "sc = MinMaxScaler()"
      ],
      "metadata": {
        "id": "0K_qOzNdOhEX"
      },
      "execution_count": null,
      "outputs": []
    },
    {
      "cell_type": "code",
      "source": [
        "X_train_ros = sc.fit_transform(X_train_ros)\n",
        "X_test_ros = sc.fit_transform(X_test_ros)"
      ],
      "metadata": {
        "id": "HtvztZz7O56h"
      },
      "execution_count": null,
      "outputs": []
    },
    {
      "cell_type": "markdown",
      "source": [
        "# **Building Models**"
      ],
      "metadata": {
        "id": "_YaQ3TsHPngW"
      }
    },
    {
      "cell_type": "markdown",
      "source": [
        "1) Logistic Regression"
      ],
      "metadata": {
        "id": "a0LlJIexUaz6"
      }
    },
    {
      "cell_type": "code",
      "source": [
        "# Import necessary module\n",
        "from sklearn.linear_model import LogisticRegression\n",
        "\n",
        "# Create Logistic Regression object\n",
        "lr = LogisticRegression()\n",
        "\n",
        "# Train Logistic Regression\n",
        "lr.fit(X_train_ros, Y_train_ros)\n",
        "\n",
        "# Predict the response for test dataset\n",
        "predlr = lr.predict(X_test_ros)"
      ],
      "metadata": {
        "id": "judzm2RWUbB7"
      },
      "execution_count": null,
      "outputs": []
    },
    {
      "cell_type": "code",
      "source": [
        "# Accuracy of the Logistic Regression\n",
        "from sklearn.metrics import confusion_matrix, classification_report\n",
        "\n",
        "print(\"Confusion Matrix:\\n\", confusion_matrix(Y_test_ros, predlr), '\\n')\n",
        "print(\"Classification Report:\\n\", classification_report(Y_test_ros, predlr))"
      ],
      "metadata": {
        "colab": {
          "base_uri": "https://localhost:8080/"
        },
        "id": "T67pyu_UUbGy",
        "outputId": "158d44d3-ef8f-45f8-b496-2db86a44ffec"
      },
      "execution_count": null,
      "outputs": [
        {
          "output_type": "stream",
          "name": "stdout",
          "text": [
            "Confusion Matrix:\n",
            " [[1484  850]\n",
            " [ 639 1805]] \n",
            "\n",
            "Classification Report:\n",
            "               precision    recall  f1-score   support\n",
            "\n",
            "           0       0.70      0.64      0.67      2334\n",
            "           1       0.68      0.74      0.71      2444\n",
            "\n",
            "    accuracy                           0.69      4778\n",
            "   macro avg       0.69      0.69      0.69      4778\n",
            "weighted avg       0.69      0.69      0.69      4778\n",
            "\n"
          ]
        }
      ]
    },
    {
      "cell_type": "markdown",
      "source": [
        "2) K Neighbors Classifier"
      ],
      "metadata": {
        "id": "-q6OYm6DRQAT"
      }
    },
    {
      "cell_type": "code",
      "source": [
        "# Import necessary module\n",
        "from sklearn.neighbors import KNeighborsClassifier\n",
        "\n",
        "# Create KNeighborsClassifier object\n",
        "knn = KNeighborsClassifier()\n",
        "\n",
        "# Train KNeighborsClassifier\n",
        "knn.fit(X_train_ros, Y_train_ros)\n",
        "\n",
        "# Predict the response for test dataset\n",
        "predknn = knn.predict(X_test_ros)"
      ],
      "metadata": {
        "id": "VJ4gaQb_QdqP"
      },
      "execution_count": null,
      "outputs": []
    },
    {
      "cell_type": "code",
      "source": [
        "# Accuracy of the KNeighborsClassifier\n",
        "from sklearn.metrics import confusion_matrix, classification_report\n",
        "\n",
        "print(\"Confusion Matrix:\\n\", confusion_matrix(Y_test_ros, predknn), '\\n')\n",
        "print(\"Classification Report:\\n\", classification_report(Y_test_ros, predknn))"
      ],
      "metadata": {
        "colab": {
          "base_uri": "https://localhost:8080/"
        },
        "id": "zg6ay9mKSfHH",
        "outputId": "c64900fb-c983-4e1b-8569-34052a0988c6"
      },
      "execution_count": null,
      "outputs": [
        {
          "output_type": "stream",
          "name": "stdout",
          "text": [
            "Confusion Matrix:\n",
            " [[1676  658]\n",
            " [ 328 2116]] \n",
            "\n",
            "Classification Report:\n",
            "               precision    recall  f1-score   support\n",
            "\n",
            "           0       0.84      0.72      0.77      2334\n",
            "           1       0.76      0.87      0.81      2444\n",
            "\n",
            "    accuracy                           0.79      4778\n",
            "   macro avg       0.80      0.79      0.79      4778\n",
            "weighted avg       0.80      0.79      0.79      4778\n",
            "\n"
          ]
        }
      ]
    },
    {
      "cell_type": "markdown",
      "source": [
        "3) Random Forest Classifier"
      ],
      "metadata": {
        "id": "hRau9TkFTpha"
      }
    },
    {
      "cell_type": "code",
      "source": [
        "# Import necessary module\n",
        "from sklearn.ensemble import RandomForestClassifier\n",
        "\n",
        "# Create RandomForestClassifier object\n",
        "rfc = RandomForestClassifier()\n",
        "\n",
        "# Train RandomForestClassifier\n",
        "rfc.fit(X_train_ros, Y_train_ros)\n",
        "\n",
        "# Predict the response for test dataset\n",
        "predrfc= rfc.predict(X_test_ros)"
      ],
      "metadata": {
        "id": "dAIAfCVNTvJv"
      },
      "execution_count": null,
      "outputs": []
    },
    {
      "cell_type": "code",
      "source": [
        "# Accuracy of the RandomForestClassifier\n",
        "from sklearn.metrics import confusion_matrix, classification_report\n",
        "\n",
        "print(\"Confusion Matrix:\\n\", confusion_matrix(Y_test_ros, predrfc), '\\n')\n",
        "print(\"Classification Report:\\n\", classification_report(Y_test_ros, predrfc))"
      ],
      "metadata": {
        "colab": {
          "base_uri": "https://localhost:8080/"
        },
        "id": "KgNTMwDSTvMy",
        "outputId": "63851b95-79a3-4d15-c80c-f3a994c5914a"
      },
      "execution_count": null,
      "outputs": [
        {
          "output_type": "stream",
          "name": "stdout",
          "text": [
            "Confusion Matrix:\n",
            " [[2044  290]\n",
            " [ 289 2155]] \n",
            "\n",
            "Classification Report:\n",
            "               precision    recall  f1-score   support\n",
            "\n",
            "           0       0.88      0.88      0.88      2334\n",
            "           1       0.88      0.88      0.88      2444\n",
            "\n",
            "    accuracy                           0.88      4778\n",
            "   macro avg       0.88      0.88      0.88      4778\n",
            "weighted avg       0.88      0.88      0.88      4778\n",
            "\n"
          ]
        }
      ]
    },
    {
      "cell_type": "markdown",
      "source": [
        "# **Conclusion**\n",
        "\n",
        "**Machine Learning Models with their Accuracy:**\n",
        "\n",
        "1) Logistic Regression ---> 0.69\n",
        "\n",
        "2) K Neighbors Classifier  ---> 0.79\n",
        "\n",
        "3) Random Forest Classifier  ---> 0.88\n",
        "\n",
        "So, The Random Forest Classifier Model works better when compared to other models."
      ],
      "metadata": {
        "id": "C6PiKBAKQzH3"
      }
    }
  ]
}